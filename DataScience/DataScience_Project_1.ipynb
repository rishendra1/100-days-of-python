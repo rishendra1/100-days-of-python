{
  "nbformat": 4,
  "nbformat_minor": 0,
  "metadata": {
    "colab": {
      "provenance": []
    },
    "kernelspec": {
      "name": "python3",
      "display_name": "Python 3"
    },
    "language_info": {
      "name": "python"
    }
  },
  "cells": [
    {
      "cell_type": "code",
      "execution_count": 38,
      "metadata": {
        "id": "vMbk3yDVL8S4"
      },
      "outputs": [],
      "source": [
        "def Enter_marks():\n",
        "  D ={}\n",
        "  while True:\n",
        "    Name = input(\"Enter Name: \")\n",
        "    Roll_No = (input(\"Enter Roll Number: \"))\n",
        "    Marks = (input(\"Enter marks Seperated by commas: \"))\n",
        "    choice = input(\"Enter 'add' to add new student and 'no' to quit: \").lower()\n",
        "    key = Name+\" - id - \"+Roll_No\n",
        "    if key in D:\n",
        "      print(\"Name already Present\")\n",
        "    else :\n",
        "      D[key] = Marks.split(\",\")\n",
        "    if choice == \"no\":\n",
        "      break\n",
        "    elif choice == \"add\":\n",
        "      continue\n",
        "  return D"
      ]
    },
    {
      "cell_type": "code",
      "source": [
        "def Average(Dictionary):\n",
        "    Average_Marks = {}\n",
        "    for student in Dictionary:\n",
        "        marks = Dictionary[student]\n",
        "        average = sum(int(mark) for mark in marks) / len(marks)\n",
        "        Average_Marks[student] = (average)\n",
        "    return Average_Marks\n"
      ],
      "metadata": {
        "id": "1c3OJ8qUVqOW"
      },
      "execution_count": 39,
      "outputs": []
    },
    {
      "cell_type": "code",
      "source": [
        "def save_into_file(D,A,filename=\"Student_details.txt\"):\n",
        "  with open(filename,\"w\") as file:\n",
        "    file.write(\"----------Student_Report of ABC college----------\")\n",
        "    for student in D:\n",
        "      marks = \",\".join(D[student])\n",
        "      Avg = A[student]\n",
        "      file.write(f\"\\n{student}\\nMarks - {marks}\\nAverage - {Avg}\")\n",
        "  print(\"Report saved\")"
      ],
      "metadata": {
        "id": "J7P3Nrdyik2x"
      },
      "execution_count": 40,
      "outputs": []
    },
    {
      "cell_type": "code",
      "source": [
        "E = Enter_marks()\n",
        "print(E)\n",
        "\n",
        "R = Average(E)\n",
        "Full_List = []\n",
        "\n",
        "\n",
        "save_into_file(E, R)\n"
      ],
      "metadata": {
        "colab": {
          "base_uri": "https://localhost:8080/"
        },
        "id": "cb0_2fiJU5Ui",
        "outputId": "f4cf0608-30dd-4e39-b565-c59835f0a9b2"
      },
      "execution_count": 41,
      "outputs": [
        {
          "output_type": "stream",
          "name": "stdout",
          "text": [
            "Enter Name: Rishi\n",
            "Enter Roll Number: AP24110011858\n",
            "Enter marks Seperated by commas: 89,89,78,69,56\n",
            "Enter 'add' to add new student and 'no' to quit: no\n",
            "{'Rishi - id - AP24110011858': ['89', '89', '78', '69', '56']}\n",
            "Final_List:\n",
            " []\n",
            "Report saved\n"
          ]
        }
      ]
    }
  ]
}