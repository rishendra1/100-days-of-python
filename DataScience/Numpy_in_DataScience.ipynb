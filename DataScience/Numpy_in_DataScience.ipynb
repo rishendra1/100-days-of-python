{
  "nbformat": 4,
  "nbformat_minor": 0,
  "metadata": {
    "colab": {
      "provenance": []
    },
    "kernelspec": {
      "name": "python3",
      "display_name": "Python 3"
    },
    "language_info": {
      "name": "python"
    }
  },
  "cells": [
    {
      "cell_type": "code",
      "execution_count": 1,
      "metadata": {
        "colab": {
          "base_uri": "https://localhost:8080/"
        },
        "id": "KKldExMN6ZM_",
        "outputId": "af8d9c65-f8a4-4b3e-e54d-c9bc8167203a"
      },
      "outputs": [
        {
          "output_type": "stream",
          "name": "stdout",
          "text": [
            "[[1 2 3]\n",
            " [4 5 6]\n",
            " [7 8 9]]\n"
          ]
        }
      ],
      "source": [
        "import numpy as np\n",
        "#importing Numpy library as numpy\n",
        "a = np.array([[1,2,3],[4,5,6],[7,8,9]])\n",
        "print(a)"
      ]
    },
    {
      "cell_type": "code",
      "source": [],
      "metadata": {
        "id": "g82ZadSjMqb2"
      },
      "execution_count": null,
      "outputs": []
    },
    {
      "cell_type": "code",
      "source": [
        "a.ndim\n",
        "#helps in finding the dimension of array"
      ],
      "metadata": {
        "colab": {
          "base_uri": "https://localhost:8080/"
        },
        "id": "5hMNqno575KT",
        "outputId": "1deb4b3b-12f9-4a52-8e95-7a8b19db1c73"
      },
      "execution_count": 2,
      "outputs": [
        {
          "output_type": "execute_result",
          "data": {
            "text/plain": [
              "2"
            ]
          },
          "metadata": {},
          "execution_count": 2
        }
      ]
    },
    {
      "cell_type": "code",
      "source": [
        "#indexing\n",
        "print(a[0,2])"
      ],
      "metadata": {
        "colab": {
          "base_uri": "https://localhost:8080/"
        },
        "id": "doGM5Pf88Sm2",
        "outputId": "a5382262-4ea2-40de-84ec-b72c1b6e2da5"
      },
      "execution_count": 3,
      "outputs": [
        {
          "output_type": "stream",
          "name": "stdout",
          "text": [
            "3\n"
          ]
        }
      ]
    },
    {
      "cell_type": "code",
      "source": [
        "b = np.array([[[1,2,3],[4,5,6],[7,8,9]],[[0,0,1],[-1,-4,-6],[-2,-10,-3]]])\n",
        "print(b)"
      ],
      "metadata": {
        "colab": {
          "base_uri": "https://localhost:8080/"
        },
        "id": "6ekQX1mq8dqH",
        "outputId": "c1ecae93-f057-4b7c-8b85-a14f7223d5b0"
      },
      "execution_count": 4,
      "outputs": [
        {
          "output_type": "stream",
          "name": "stdout",
          "text": [
            "[[[  1   2   3]\n",
            "  [  4   5   6]\n",
            "  [  7   8   9]]\n",
            "\n",
            " [[  0   0   1]\n",
            "  [ -1  -4  -6]\n",
            "  [ -2 -10  -3]]]\n"
          ]
        }
      ]
    },
    {
      "cell_type": "code",
      "source": [
        "b.ndim"
      ],
      "metadata": {
        "colab": {
          "base_uri": "https://localhost:8080/"
        },
        "id": "WaqNEKm09ICf",
        "outputId": "ecdff3ea-4010-48c3-da10-1e318627a8e2"
      },
      "execution_count": 5,
      "outputs": [
        {
          "output_type": "execute_result",
          "data": {
            "text/plain": [
              "3"
            ]
          },
          "metadata": {},
          "execution_count": 5
        }
      ]
    },
    {
      "cell_type": "code",
      "source": [
        "print(b[1,1,2])"
      ],
      "metadata": {
        "colab": {
          "base_uri": "https://localhost:8080/"
        },
        "id": "EWknefYD9Pjs",
        "outputId": "fbcc9857-8435-40d8-eaa4-c044ccf8bce9"
      },
      "execution_count": 6,
      "outputs": [
        {
          "output_type": "stream",
          "name": "stdout",
          "text": [
            "-6\n"
          ]
        }
      ]
    },
    {
      "cell_type": "code",
      "source": [
        "type(b)"
      ],
      "metadata": {
        "colab": {
          "base_uri": "https://localhost:8080/"
        },
        "id": "kELU-vFa9Wkj",
        "outputId": "78a4a1fc-98b4-4a8e-a82f-4c8940c931e4"
      },
      "execution_count": 7,
      "outputs": [
        {
          "output_type": "execute_result",
          "data": {
            "text/plain": [
              "numpy.ndarray"
            ]
          },
          "metadata": {},
          "execution_count": 7
        }
      ]
    },
    {
      "cell_type": "code",
      "source": [
        "b.shape\n",
        "'''(2,3,3) defines:\n",
        "    1. There are \"2\" 2d arrays\n",
        "    2. There are 3 1d arraya in each 2d array\n",
        "    3. There are 3 elements in each 1d array\n",
        "'''"
      ],
      "metadata": {
        "colab": {
          "base_uri": "https://localhost:8080/",
          "height": 35
        },
        "id": "7SQJEB369hF9",
        "outputId": "2e49cb3a-d3f1-492f-d5d7-9e78e1592049"
      },
      "execution_count": 8,
      "outputs": [
        {
          "output_type": "execute_result",
          "data": {
            "text/plain": [
              "'(2,3,3) defines:\\n    1. There are \"2\" 2d arrays\\n    2. There are 3 1d arraya in each 2d array\\n    3. There are 3 elements in each 1d array\\n'"
            ],
            "application/vnd.google.colaboratory.intrinsic+json": {
              "type": "string"
            }
          },
          "metadata": {},
          "execution_count": 8
        }
      ]
    },
    {
      "cell_type": "code",
      "source": [
        "b.size\n",
        "#gives size of Matrix"
      ],
      "metadata": {
        "colab": {
          "base_uri": "https://localhost:8080/"
        },
        "id": "5tXh9YoX-d07",
        "outputId": "fa12948e-b1aa-4387-97d1-3fee52416cfe"
      },
      "execution_count": 9,
      "outputs": [
        {
          "output_type": "execute_result",
          "data": {
            "text/plain": [
              "18"
            ]
          },
          "metadata": {},
          "execution_count": 9
        }
      ]
    },
    {
      "cell_type": "code",
      "source": [
        "b.nbytes\n",
        "#Calculates storage of Matrix"
      ],
      "metadata": {
        "colab": {
          "base_uri": "https://localhost:8080/"
        },
        "id": "XH8-_pKj-xAP",
        "outputId": "fc01d49a-4352-47bd-aa24-44cb6cd866fd"
      },
      "execution_count": 10,
      "outputs": [
        {
          "output_type": "execute_result",
          "data": {
            "text/plain": [
              "144"
            ]
          },
          "metadata": {},
          "execution_count": 10
        }
      ]
    },
    {
      "cell_type": "code",
      "source": [
        "C = np.arange(100)\n",
        "#arange function helps us to write a array of range upto 100\n",
        "print(C)"
      ],
      "metadata": {
        "colab": {
          "base_uri": "https://localhost:8080/"
        },
        "id": "m8F4A-KQAnBw",
        "outputId": "4de80d35-5b10-446e-bc24-9de5915bbba8"
      },
      "execution_count": 11,
      "outputs": [
        {
          "output_type": "stream",
          "name": "stdout",
          "text": [
            "[ 0  1  2  3  4  5  6  7  8  9 10 11 12 13 14 15 16 17 18 19 20 21 22 23\n",
            " 24 25 26 27 28 29 30 31 32 33 34 35 36 37 38 39 40 41 42 43 44 45 46 47\n",
            " 48 49 50 51 52 53 54 55 56 57 58 59 60 61 62 63 64 65 66 67 68 69 70 71\n",
            " 72 73 74 75 76 77 78 79 80 81 82 83 84 85 86 87 88 89 90 91 92 93 94 95\n",
            " 96 97 98 99]\n"
          ]
        }
      ]
    },
    {
      "cell_type": "code",
      "source": [
        "D = np.arange(0,201,5)\n",
        "'''\n",
        "    1. \"1\" is starting value\n",
        "    2. \"201\" is the last value\n",
        "    3. \"5\" is the increment value\n",
        "'''\n",
        "print(D)"
      ],
      "metadata": {
        "colab": {
          "base_uri": "https://localhost:8080/"
        },
        "id": "MCft0PI-BmrY",
        "outputId": "72e52196-c872-4a83-9984-07a24aa3109e"
      },
      "execution_count": 12,
      "outputs": [
        {
          "output_type": "stream",
          "name": "stdout",
          "text": [
            "[  0   5  10  15  20  25  30  35  40  45  50  55  60  65  70  75  80  85\n",
            "  90  95 100 105 110 115 120 125 130 135 140 145 150 155 160 165 170 175\n",
            " 180 185 190 195 200]\n"
          ]
        }
      ]
    },
    {
      "cell_type": "code",
      "source": [
        "print(list(range(11)))\n",
        "#Prints the list of numbers in the given range"
      ],
      "metadata": {
        "colab": {
          "base_uri": "https://localhost:8080/"
        },
        "id": "6oPFznbYCMrZ",
        "outputId": "7c38fc85-1ecd-44d2-ff15-c33ed0c27221"
      },
      "execution_count": 13,
      "outputs": [
        {
          "output_type": "stream",
          "name": "stdout",
          "text": [
            "[0, 1, 2, 3, 4, 5, 6, 7, 8, 9, 10]\n"
          ]
        }
      ]
    },
    {
      "cell_type": "code",
      "source": [
        "import random\n",
        "E = np.random.permutation(np.arange(10))\n",
        "print(E)"
      ],
      "metadata": {
        "colab": {
          "base_uri": "https://localhost:8080/"
        },
        "id": "s06v-ZFNCVg_",
        "outputId": "a1329c81-1690-424d-903b-5d4237c03331"
      },
      "execution_count": 14,
      "outputs": [
        {
          "output_type": "stream",
          "name": "stdout",
          "text": [
            "[4 6 9 0 2 1 8 7 3 5]\n"
          ]
        }
      ]
    },
    {
      "cell_type": "code",
      "source": [
        "F = np.random.rand(10)\n",
        "print(F)"
      ],
      "metadata": {
        "colab": {
          "base_uri": "https://localhost:8080/"
        },
        "id": "vZ6ANrHuCvk9",
        "outputId": "99a8d516-9500-4f43-ba59-b41d9cf52af4"
      },
      "execution_count": 15,
      "outputs": [
        {
          "output_type": "stream",
          "name": "stdout",
          "text": [
            "[0.87736711 0.20080004 0.63867409 0.24355405 0.7958408  0.83956233\n",
            " 0.210114   0.91704858 0.92025634 0.58427535]\n"
          ]
        }
      ]
    },
    {
      "cell_type": "code",
      "source": [
        "G = np.random.randint(0,1000)\n",
        "print(G)"
      ],
      "metadata": {
        "colab": {
          "base_uri": "https://localhost:8080/"
        },
        "id": "yBAdC7xLD0ER",
        "outputId": "9da98509-353d-40bb-b4cd-3915aa2df548"
      },
      "execution_count": 16,
      "outputs": [
        {
          "output_type": "stream",
          "name": "stdout",
          "text": [
            "738\n"
          ]
        }
      ]
    },
    {
      "cell_type": "code",
      "source": [
        "import matplotlib.pyplot as plt\n"
      ],
      "metadata": {
        "id": "E3zQdKKaEhbq"
      },
      "execution_count": 17,
      "outputs": []
    },
    {
      "cell_type": "code",
      "source": [
        "a = np.random.rand(1000)\n",
        "print(a)"
      ],
      "metadata": {
        "colab": {
          "base_uri": "https://localhost:8080/"
        },
        "id": "-bX57SWnE8wz",
        "outputId": "393937d4-8572-4123-a441-03a8623a9c65"
      },
      "execution_count": 18,
      "outputs": [
        {
          "output_type": "stream",
          "name": "stdout",
          "text": [
            "[6.10631697e-01 9.29772865e-01 4.27001829e-01 9.17811610e-01\n",
            " 2.34701004e-01 8.08879808e-01 8.44406980e-01 7.25089715e-01\n",
            " 8.71917520e-01 2.40036747e-01 1.75097664e-01 5.77987878e-01\n",
            " 1.76142134e-01 8.26501297e-01 7.68212615e-02 1.54859143e-01\n",
            " 9.97423824e-02 4.35519206e-01 5.68017340e-01 6.13009499e-01\n",
            " 1.90397258e-01 6.06638520e-01 1.36393307e-01 7.23645862e-01\n",
            " 8.23645299e-01 5.10481220e-01 9.44964193e-01 5.95207164e-01\n",
            " 1.12920034e-02 2.63524467e-02 8.10669675e-01 3.39045050e-01\n",
            " 1.82248861e-02 3.39685081e-01 9.01507724e-01 1.40750470e-02\n",
            " 5.38453317e-02 9.19459784e-01 8.34476927e-01 6.51153906e-01\n",
            " 4.90181309e-01 4.32624950e-01 9.47467775e-01 6.95588994e-01\n",
            " 8.25482157e-01 4.81543321e-01 1.09671528e-01 5.43020902e-01\n",
            " 8.21823029e-01 3.03370303e-01 8.15126460e-01 1.57296850e-01\n",
            " 8.32097412e-01 1.54601199e-02 1.30632561e-01 7.91195497e-01\n",
            " 1.20997376e-01 7.98560182e-01 4.68965683e-01 6.37209025e-01\n",
            " 4.86870862e-01 4.56663125e-01 9.42213836e-01 1.56309357e-02\n",
            " 9.11850180e-01 3.91885766e-01 5.06126303e-01 8.93521814e-01\n",
            " 8.83549679e-01 4.64635946e-02 3.47153604e-01 1.03614055e-01\n",
            " 9.33778565e-01 7.11994427e-01 2.30525209e-01 7.49543486e-01\n",
            " 5.50825953e-01 4.99899366e-01 4.13761599e-01 1.98094687e-01\n",
            " 1.59485949e-01 8.19543407e-01 5.19344929e-01 6.86230562e-01\n",
            " 6.13483095e-01 7.04703293e-01 1.44145913e-01 5.59215532e-01\n",
            " 9.42873389e-01 1.99767620e-01 6.19874117e-01 3.42225834e-01\n",
            " 3.84426261e-01 5.72079028e-01 5.04815992e-01 3.75763334e-01\n",
            " 5.37519429e-01 3.63585667e-01 7.59497708e-01 2.24068860e-01\n",
            " 2.39241544e-02 6.84862282e-01 1.50202525e-02 2.05476861e-01\n",
            " 1.93494428e-01 6.28134940e-01 8.57789826e-01 6.89657415e-01\n",
            " 4.72297496e-01 2.83759878e-01 1.77118212e-01 8.35363725e-01\n",
            " 3.63811565e-01 8.49174493e-01 5.17204532e-01 5.14930221e-01\n",
            " 7.44538697e-01 3.55070867e-01 3.22326344e-01 1.85196677e-01\n",
            " 8.19797175e-01 9.72692538e-01 2.98171225e-02 1.59553196e-01\n",
            " 4.53386970e-01 7.03243688e-01 2.22684785e-01 8.71614364e-02\n",
            " 2.61237143e-01 8.20469021e-01 2.08647561e-01 7.13272377e-01\n",
            " 7.10189823e-01 7.62062992e-01 3.93992681e-01 9.22858754e-01\n",
            " 6.22213508e-01 9.51163796e-02 6.17505311e-02 8.99247103e-01\n",
            " 6.90268012e-01 9.51532505e-02 8.84065964e-01 4.57887236e-01\n",
            " 3.06187449e-01 8.82616564e-01 5.56471270e-01 6.05596002e-01\n",
            " 2.42835175e-01 1.05045101e-01 2.92164411e-01 5.49080448e-01\n",
            " 2.57439951e-01 1.57768874e-01 3.27517509e-01 8.65359318e-01\n",
            " 3.60662135e-01 3.47257065e-01 7.17684918e-01 8.78709783e-01\n",
            " 9.51935444e-01 3.85357312e-01 1.13778835e-01 9.28561348e-01\n",
            " 5.36034991e-01 9.28908330e-01 3.36387028e-02 5.89449195e-01\n",
            " 5.67413465e-01 1.66619537e-01 5.78054580e-01 6.73989548e-01\n",
            " 6.72007097e-01 5.99319708e-01 5.11837405e-01 5.52726870e-01\n",
            " 5.05874357e-02 9.12416582e-01 4.73938238e-02 8.75791812e-01\n",
            " 1.86897501e-01 7.75491870e-01 9.92852347e-01 6.54190856e-02\n",
            " 1.29530499e-01 1.09916639e-01 5.67620229e-01 6.24204421e-01\n",
            " 4.19648871e-01 1.66236639e-01 8.03576451e-01 4.78198601e-01\n",
            " 1.47161659e-01 4.40929469e-01 5.75053656e-01 9.96072296e-01\n",
            " 1.28340853e-01 8.92238667e-01 5.48392108e-01 1.21960026e-02\n",
            " 2.63605083e-01 2.59424860e-01 2.71124422e-01 3.78228436e-01\n",
            " 6.37501912e-01 2.00985538e-02 6.81594769e-01 7.61623371e-01\n",
            " 2.48058693e-01 5.22523641e-01 5.39131775e-01 2.54709374e-01\n",
            " 9.27697508e-01 3.94795588e-01 4.00027830e-02 3.40006909e-01\n",
            " 6.71557171e-01 4.77480246e-01 2.49077318e-01 5.82641150e-02\n",
            " 4.34015021e-02 8.79924847e-01 1.08918423e-01 6.42225483e-01\n",
            " 1.61186956e-01 4.45613365e-01 5.85551536e-01 4.34868968e-01\n",
            " 3.17939071e-01 1.18928382e-01 2.40415207e-01 9.04114786e-01\n",
            " 6.24367183e-01 4.22975889e-01 9.24675851e-01 7.45985220e-01\n",
            " 2.06374249e-01 2.76668144e-01 2.92645925e-01 1.33023614e-01\n",
            " 3.94865670e-01 9.85274631e-01 9.42902309e-02 2.47820628e-01\n",
            " 8.56598962e-01 9.78570441e-01 3.00940283e-01 4.87909299e-01\n",
            " 9.36226088e-02 3.26477828e-01 2.61597852e-01 2.76780238e-01\n",
            " 9.99376537e-01 5.31893890e-01 9.40810963e-01 3.99429207e-01\n",
            " 3.42895566e-01 4.73059814e-01 7.60424517e-01 3.96961809e-01\n",
            " 3.02753113e-01 1.59667803e-01 8.72988216e-01 9.69864673e-01\n",
            " 8.75262971e-01 9.47934337e-01 7.38317167e-01 1.35198537e-01\n",
            " 3.76146684e-01 8.41072717e-01 1.24501417e-01 8.06908734e-01\n",
            " 8.78292330e-01 2.29132281e-01 4.26419172e-01 4.01603629e-02\n",
            " 7.09470642e-01 6.99137948e-01 1.12568317e-01 1.46538536e-01\n",
            " 3.54226299e-01 5.43741420e-01 4.16438969e-01 3.02763813e-04\n",
            " 4.24746611e-01 1.46723178e-01 3.31086324e-01 4.31073714e-01\n",
            " 2.50269891e-02 4.05849757e-01 8.11048161e-01 9.43420916e-01\n",
            " 4.79824946e-01 7.94760804e-02 9.03797975e-01 5.79520127e-01\n",
            " 9.66797457e-01 7.87723913e-01 5.86936675e-01 2.57359134e-01\n",
            " 3.57111025e-01 3.00870378e-01 3.30805337e-01 6.46694868e-01\n",
            " 3.73581556e-01 1.54578940e-01 4.22112259e-01 8.62003285e-01\n",
            " 5.73344908e-01 6.33612818e-01 3.48096158e-01 6.30796323e-02\n",
            " 6.42124772e-02 3.01253928e-01 7.39034629e-01 4.09796830e-01\n",
            " 9.10109988e-01 1.09261814e-01 5.28657465e-02 1.96644327e-01\n",
            " 3.59010517e-01 2.94602364e-01 7.60153250e-01 1.54549439e-01\n",
            " 5.05683725e-01 1.15711958e-01 9.18944543e-01 5.75129422e-02\n",
            " 9.26675109e-01 6.40751517e-01 9.17721555e-01 9.96363860e-01\n",
            " 4.13169193e-01 5.81832430e-02 2.72792631e-01 8.01299509e-01\n",
            " 5.41144229e-01 7.13479437e-01 9.26554269e-01 6.47965738e-01\n",
            " 7.33873561e-01 9.25584339e-01 1.89077609e-01 7.11226289e-01\n",
            " 3.15798769e-01 2.57832926e-02 8.87422449e-01 2.28378850e-01\n",
            " 3.36574540e-01 3.07597579e-01 2.78685133e-01 9.98328250e-01\n",
            " 5.62409204e-01 4.99361640e-01 4.08385801e-01 4.78779189e-01\n",
            " 5.24031953e-01 6.50953817e-01 4.38286989e-01 2.92289529e-01\n",
            " 8.51795926e-01 1.90803743e-01 9.45107721e-01 1.19056481e-01\n",
            " 2.77943237e-01 3.03171588e-01 4.88349677e-01 2.69333416e-01\n",
            " 4.98898243e-01 7.95975627e-01 7.90786966e-01 1.77157829e-01\n",
            " 2.57794309e-01 6.66688190e-01 4.24535302e-01 1.99230803e-01\n",
            " 5.40604977e-01 5.68485806e-01 9.65753176e-01 6.36051857e-02\n",
            " 8.48525812e-01 3.15986630e-01 6.09631520e-01 6.53401916e-01\n",
            " 1.56637448e-01 8.12489352e-01 1.30011908e-01 3.75284999e-01\n",
            " 4.08803585e-01 2.52443619e-01 1.55951420e-01 9.78915962e-01\n",
            " 2.59368524e-01 8.67835436e-02 7.51574068e-01 3.02766858e-01\n",
            " 4.24342771e-01 4.80201394e-01 5.09062859e-01 1.44928701e-02\n",
            " 8.03905145e-01 1.15565873e-01 6.95627308e-01 2.35741212e-01\n",
            " 8.99227818e-01 1.24116284e-01 7.90521155e-01 1.71777036e-01\n",
            " 1.92655926e-01 2.51215906e-01 7.47146513e-01 4.59492773e-01\n",
            " 7.27161713e-01 8.94516811e-01 8.48198263e-01 5.52662006e-01\n",
            " 4.74204870e-02 5.16937543e-01 9.48939413e-01 9.92479494e-01\n",
            " 1.75787248e-01 1.96669095e-01 8.86648384e-02 6.50546326e-01\n",
            " 9.30458514e-01 3.61505344e-02 3.37653949e-01 6.88262441e-01\n",
            " 8.64621589e-01 3.19011363e-01 8.33444745e-01 1.41081094e-01\n",
            " 5.43919206e-01 8.88320687e-01 1.52989137e-01 3.53760357e-01\n",
            " 8.53428171e-01 3.31543544e-01 4.50514531e-01 1.48671235e-01\n",
            " 7.39268151e-01 6.82635216e-01 7.21232812e-01 5.02818484e-01\n",
            " 4.67512649e-01 7.38937782e-01 2.53698748e-01 4.51651646e-01\n",
            " 3.13173360e-02 5.40431857e-01 5.01799666e-01 5.53578430e-01\n",
            " 6.21744045e-01 9.92985437e-01 6.69579550e-01 4.16616151e-01\n",
            " 5.86389777e-01 1.30642170e-01 6.30510960e-01 2.09028253e-01\n",
            " 4.59148944e-02 7.60887295e-01 5.50706609e-01 7.80308542e-02\n",
            " 4.47434297e-01 9.71887044e-01 1.26833869e-01 5.20580137e-01\n",
            " 8.57067239e-01 1.74238585e-01 2.02992895e-01 3.67578589e-01\n",
            " 2.37477460e-01 4.48817704e-01 1.29451976e-01 4.16810391e-01\n",
            " 1.91207106e-01 5.19894591e-01 2.22839764e-02 4.20312510e-01\n",
            " 4.22259815e-01 1.72753792e-01 7.68249599e-01 8.05313663e-02\n",
            " 9.89003945e-01 8.87834943e-01 4.91991439e-01 5.16111460e-01\n",
            " 2.91035174e-01 3.11694992e-01 1.55423656e-01 6.72259070e-01\n",
            " 7.40950083e-01 2.25242700e-02 5.87383221e-01 7.59316638e-01\n",
            " 8.63726296e-01 3.20602243e-01 9.79972979e-01 6.74757818e-01\n",
            " 5.33544604e-01 2.50123820e-02 6.15723828e-02 4.73274532e-01\n",
            " 2.16047975e-01 4.78006074e-01 3.51873023e-01 3.99904163e-01\n",
            " 8.09574013e-01 5.53846913e-01 5.17128817e-01 5.65351118e-01\n",
            " 3.11059134e-01 4.40845706e-02 2.69183641e-01 3.90792086e-01\n",
            " 6.66198081e-01 5.03458294e-01 5.50580220e-01 4.68135883e-02\n",
            " 6.03182425e-01 1.84545650e-01 2.24061617e-02 8.21948469e-01\n",
            " 1.68800672e-01 8.16627817e-01 7.17704681e-01 3.74865031e-01\n",
            " 9.90759319e-01 4.21485167e-01 1.97196606e-01 4.71921465e-02\n",
            " 6.02733750e-01 1.35915589e-01 2.86560725e-01 4.21759486e-01\n",
            " 9.78197936e-02 7.64607780e-01 5.69067789e-01 8.17804802e-01\n",
            " 1.67578649e-01 9.02876872e-02 1.27659070e-01 8.58840432e-02\n",
            " 9.56492508e-01 8.56392373e-01 4.60553023e-01 3.29732420e-01\n",
            " 8.97221032e-01 1.42117121e-01 5.48067950e-01 7.48342625e-01\n",
            " 9.45963869e-01 7.80226086e-01 3.33069652e-01 2.17202953e-01\n",
            " 2.37801902e-01 9.34627316e-01 2.69683020e-01 8.30650067e-01\n",
            " 8.38831236e-01 9.92234665e-01 1.99913022e-01 6.81847373e-01\n",
            " 3.43331643e-01 7.39181031e-01 3.33676318e-01 7.27506798e-01\n",
            " 4.08431982e-01 3.97258364e-01 4.66938432e-01 1.77199716e-01\n",
            " 6.12070419e-01 7.73598867e-01 2.04989150e-01 9.99138925e-01\n",
            " 1.79802777e-01 9.43790214e-01 7.67532542e-01 2.27212835e-02\n",
            " 3.39452493e-01 5.96041883e-01 3.73592476e-01 4.16301470e-01\n",
            " 8.74447709e-01 8.04832411e-01 1.81010071e-01 9.19290142e-01\n",
            " 5.17205026e-01 4.63483376e-01 5.17829167e-02 1.15161424e-01\n",
            " 4.14461941e-01 5.96507986e-01 5.82607096e-04 6.68835192e-01\n",
            " 5.75307268e-01 7.19432140e-01 7.31317772e-01 8.20223855e-01\n",
            " 2.82239786e-01 8.93169402e-01 9.18908270e-01 2.11974506e-01\n",
            " 3.08473161e-01 5.21476768e-01 1.49270277e-01 8.81288828e-01\n",
            " 8.17107910e-01 4.04720659e-01 8.70070450e-01 3.64553925e-01\n",
            " 5.85926037e-01 9.24927614e-01 8.99291611e-01 5.93785046e-01\n",
            " 2.47588864e-01 6.00377171e-01 6.31488661e-01 7.96966053e-01\n",
            " 6.58068328e-01 8.56205877e-01 8.76956705e-01 4.46619777e-01\n",
            " 1.63822625e-01 4.51282072e-01 7.75400048e-01 8.54845435e-01\n",
            " 5.66623425e-01 2.57294273e-01 9.53001102e-01 6.58319803e-01\n",
            " 8.06921066e-01 9.78536189e-01 7.82997054e-01 6.93076533e-01\n",
            " 4.12419983e-01 6.01693114e-01 8.12099791e-01 3.47025854e-02\n",
            " 3.31690787e-01 2.41742207e-01 2.93803674e-01 6.22382031e-01\n",
            " 2.79663809e-01 3.60983285e-01 7.31504020e-01 6.31742345e-01\n",
            " 4.02280471e-01 1.78203125e-01 7.57392181e-01 7.31228527e-01\n",
            " 6.67226440e-01 5.14548458e-02 1.64293837e-01 6.90159577e-01\n",
            " 3.14038140e-01 1.94394749e-01 9.76701233e-01 1.34300667e-01\n",
            " 3.66381236e-01 7.06783249e-01 1.04133935e-01 9.67546948e-01\n",
            " 8.70122411e-01 6.90510998e-01 8.27055879e-01 1.99914097e-02\n",
            " 5.68003115e-01 6.43969542e-01 2.34582849e-01 9.19892125e-02\n",
            " 1.94786358e-01 1.57264266e-01 6.85927378e-01 8.39612101e-01\n",
            " 4.82730959e-01 5.90339983e-02 1.92055507e-01 4.79183988e-01\n",
            " 2.64350569e-02 3.48589124e-01 7.43414664e-01 2.72211818e-01\n",
            " 2.44478649e-02 3.54148561e-01 9.75895502e-01 7.11467488e-01\n",
            " 8.33891401e-01 6.23902011e-01 6.35266183e-01 6.33177379e-01\n",
            " 9.06450135e-01 2.33050860e-01 9.59135554e-01 9.21841162e-01\n",
            " 5.91464923e-02 5.64961619e-01 7.23870722e-01 6.48853581e-01\n",
            " 6.96689752e-01 2.72831032e-01 5.35249751e-01 5.05424639e-01\n",
            " 4.39357897e-01 7.70426004e-01 4.00301838e-01 4.83863571e-01\n",
            " 7.84780794e-01 2.34029686e-01 1.56032982e-01 3.76074241e-01\n",
            " 5.15908052e-01 7.13471736e-01 4.25435463e-01 1.09860683e-02\n",
            " 8.88117860e-02 9.40839526e-02 2.67522546e-01 4.83028241e-01\n",
            " 1.18292439e-03 4.07745691e-01 4.51587134e-02 1.07417624e-01\n",
            " 6.64830899e-01 3.24770566e-01 6.42874882e-01 1.52266642e-01\n",
            " 5.41210346e-01 9.20634775e-02 7.96290340e-01 2.69812578e-01\n",
            " 1.88668001e-01 7.82895556e-01 1.32351134e-01 2.11833494e-01\n",
            " 4.21005404e-01 7.13051977e-02 2.56221228e-01 8.66198535e-01\n",
            " 6.83595809e-01 5.88397258e-02 7.22306675e-02 7.55629509e-01\n",
            " 1.99117642e-01 7.72676451e-01 8.76434812e-01 8.94064023e-01\n",
            " 4.49956194e-01 7.15357390e-01 2.30574516e-02 6.98294112e-01\n",
            " 7.00097193e-02 9.73980107e-01 6.91361365e-01 5.97567370e-01\n",
            " 4.36246028e-01 1.92010017e-01 2.79148754e-01 6.57821978e-01\n",
            " 4.77862437e-01 2.19680465e-01 1.17910922e-01 7.68766217e-01\n",
            " 5.72218387e-01 2.84764448e-01 4.21845593e-01 3.78660608e-03\n",
            " 2.64722605e-01 8.40450454e-01 3.27018007e-01 4.74861255e-01\n",
            " 2.87913575e-01 6.11796752e-01 5.68538835e-01 2.34067703e-01\n",
            " 5.87884710e-01 4.62871961e-01 4.27155952e-01 5.01029256e-02\n",
            " 1.65752024e-01 1.60948977e-02 9.24787634e-01 9.00659965e-02\n",
            " 5.75784080e-01 7.41503002e-01 6.61231892e-01 3.08810036e-01\n",
            " 1.19618702e-01 1.87326175e-01 6.87746022e-02 1.47625781e-01\n",
            " 2.75199276e-01 4.56113455e-01 8.94456502e-01 7.80306656e-01\n",
            " 9.16519747e-01 9.86806107e-01 3.81836757e-01 5.88993906e-02\n",
            " 2.03929762e-01 3.88065232e-01 3.33188343e-01 6.17826987e-02\n",
            " 2.95482190e-01 8.64543775e-02 5.76082239e-01 7.60232560e-03\n",
            " 8.56851899e-01 4.71029892e-02 3.61760273e-01 2.35354266e-01\n",
            " 5.05549096e-01 7.24099859e-01 3.56524104e-01 7.28520855e-01\n",
            " 9.16225952e-01 6.12501741e-01 6.87921668e-01 9.09773988e-01\n",
            " 7.31605852e-01 5.52693027e-01 7.81711708e-01 9.94552177e-01\n",
            " 9.54441607e-01 1.91512730e-02 2.62854556e-01 8.82505820e-01\n",
            " 9.48829582e-01 1.91297327e-01 6.53434698e-01 3.44378294e-01\n",
            " 3.13861581e-01 4.00667439e-01 4.02209494e-01 3.11647447e-01\n",
            " 2.50108716e-01 8.27808908e-01 8.32618127e-01 7.58290121e-02\n",
            " 5.51522902e-01 7.51492567e-01 2.78716877e-01 4.46208724e-01\n",
            " 7.14777676e-01 3.28847163e-01 6.66401621e-01 6.04066827e-01\n",
            " 3.54184278e-01 8.22241315e-02 1.48614420e-01 9.42610816e-01\n",
            " 2.99143218e-01 3.80670230e-01 8.80672200e-01 1.71172293e-01\n",
            " 7.48500558e-01 2.52604328e-01 9.97418342e-01 5.53815305e-01\n",
            " 6.74921370e-01 4.00892521e-01 8.46402742e-01 2.44227537e-01\n",
            " 6.72779078e-01 6.91219337e-01 9.40672457e-01 9.93161525e-01\n",
            " 7.09445138e-02 6.96369309e-01 7.46781020e-01 3.64307029e-01\n",
            " 8.46307132e-01 2.48778625e-01 3.17652604e-01 8.53892358e-01\n",
            " 6.00933374e-01 6.30642935e-01 4.06114574e-01 7.17681939e-01\n",
            " 1.10765560e-01 7.65484759e-01 4.56512441e-01 7.38265184e-01\n",
            " 5.06748877e-01 8.85720150e-01 2.70992853e-01 5.03140025e-01\n",
            " 5.81387391e-01 1.78562927e-01 5.66623540e-01 1.70683348e-01\n",
            " 9.44509938e-01 9.73280362e-01 9.50457779e-01 8.98866651e-01\n",
            " 4.14812139e-02 1.87266737e-01 8.34084931e-01 9.33892577e-01\n",
            " 1.37250863e-01 5.55926268e-01 9.93012519e-03 5.58446116e-01\n",
            " 8.59828964e-01 4.64639786e-01 5.65873849e-01 3.64465860e-01\n",
            " 5.16048412e-01 9.54142171e-01 2.08909720e-01 2.35324713e-01\n",
            " 3.45115830e-01 5.33672025e-01 2.32640669e-01 1.90836431e-02\n",
            " 1.41645398e-01 7.04949302e-01 3.46433583e-01 4.99010150e-01\n",
            " 3.50726903e-01 4.08756969e-02 2.54629252e-01 1.44017945e-01\n",
            " 5.39042104e-01 7.85681371e-02 4.41503384e-01 6.98994840e-01\n",
            " 1.09527506e-02 5.04574351e-01 7.58843463e-01 9.79245391e-01\n",
            " 8.03626665e-01 6.52667366e-01 8.84325084e-01 5.63341620e-01\n",
            " 6.89427055e-01 6.14108753e-01 1.19337240e-01 6.98389496e-01\n",
            " 9.01386099e-01 9.77562798e-01 3.23691491e-01 4.06105924e-01\n",
            " 4.97888958e-01 8.77387238e-01 9.45604489e-02 8.69552496e-01\n",
            " 1.46283978e-01 7.33651760e-01 3.64196079e-01 7.18177201e-01\n",
            " 7.41384376e-01 9.60939159e-01 8.32449071e-02 7.68223942e-01\n",
            " 9.48164582e-02 1.56997542e-01 6.32231763e-01 5.36378934e-01\n",
            " 6.86850385e-01 2.14259107e-01 9.71631269e-01 7.79303675e-01\n",
            " 3.11318763e-02 6.34347635e-01 1.84164126e-01 6.28813466e-01\n",
            " 8.40431747e-01 6.14246878e-01 7.39203485e-01 5.12728355e-02\n",
            " 1.16639760e-01 2.55326001e-01 2.35020096e-01 1.23197520e-01\n",
            " 6.66734627e-02 7.15797598e-01 6.47748628e-02 1.74721923e-01\n",
            " 8.56448007e-01 7.08189187e-01 4.15523912e-01 7.92646923e-01\n",
            " 4.42202930e-01 3.17442265e-01 6.34576299e-01 2.09653906e-01\n",
            " 1.99398107e-01 4.19809404e-01 9.29082709e-01 2.03738019e-01\n",
            " 8.76716275e-01 1.14140937e-01 8.72377209e-01 7.03148663e-01\n",
            " 7.60029213e-01 4.27123430e-01 5.46936939e-01 5.85089961e-02]\n"
          ]
        }
      ]
    },
    {
      "cell_type": "code",
      "source": [
        "plt.hist(a,bins=100)\n"
      ],
      "metadata": {
        "colab": {
          "base_uri": "https://localhost:8080/",
          "height": 1000
        },
        "id": "mIKI4q0TEu1q",
        "outputId": "c8018571-c5d2-472c-9c24-aecd55c50c38"
      },
      "execution_count": 19,
      "outputs": [
        {
          "output_type": "execute_result",
          "data": {
            "text/plain": [
              "(array([ 6., 15., 13.,  7., 13., 14., 11.,  8., 10., 12.,  8., 13., 10.,\n",
              "         9., 13., 16.,  8., 15.,  9., 19., 10.,  6.,  4., 14.,  9., 15.,\n",
              "        10., 13.,  5.,  8., 11., 11.,  9., 12., 11., 10., 11.,  8.,  5.,\n",
              "         9., 14., 11., 16.,  7.,  8., 10.,  7., 11.,  8.,  6., 13., 11.,\n",
              "         5.,  9., 11., 14., 14., 10.,  8.,  6.,  9.,  8.,  9., 12.,  7.,\n",
              "         9.,  8.,  7., 12., 14.,  7., 15.,  8., 13., 11.,  7., 12.,  6.,\n",
              "         7.,  8.,  8.,  9., 11.,  9., 10., 11.,  6., 15., 12., 11.,  5.,\n",
              "        11., 13.,  5., 15.,  7.,  4., 13.,  4., 13.]),\n",
              " array([3.02763813e-04, 1.02935015e-02, 2.02842393e-02, 3.02749770e-02,\n",
              "        4.02657147e-02, 5.02564525e-02, 6.02471902e-02, 7.02379279e-02,\n",
              "        8.02286657e-02, 9.02194034e-02, 1.00210141e-01, 1.10200879e-01,\n",
              "        1.20191617e-01, 1.30182354e-01, 1.40173092e-01, 1.50163830e-01,\n",
              "        1.60154568e-01, 1.70145305e-01, 1.80136043e-01, 1.90126781e-01,\n",
              "        2.00117518e-01, 2.10108256e-01, 2.20098994e-01, 2.30089732e-01,\n",
              "        2.40080469e-01, 2.50071207e-01, 2.60061945e-01, 2.70052683e-01,\n",
              "        2.80043420e-01, 2.90034158e-01, 3.00024896e-01, 3.10015633e-01,\n",
              "        3.20006371e-01, 3.29997109e-01, 3.39987847e-01, 3.49978584e-01,\n",
              "        3.59969322e-01, 3.69960060e-01, 3.79950798e-01, 3.89941535e-01,\n",
              "        3.99932273e-01, 4.09923011e-01, 4.19913749e-01, 4.29904486e-01,\n",
              "        4.39895224e-01, 4.49885962e-01, 4.59876699e-01, 4.69867437e-01,\n",
              "        4.79858175e-01, 4.89848913e-01, 4.99839650e-01, 5.09830388e-01,\n",
              "        5.19821126e-01, 5.29811864e-01, 5.39802601e-01, 5.49793339e-01,\n",
              "        5.59784077e-01, 5.69774814e-01, 5.79765552e-01, 5.89756290e-01,\n",
              "        5.99747028e-01, 6.09737765e-01, 6.19728503e-01, 6.29719241e-01,\n",
              "        6.39709979e-01, 6.49700716e-01, 6.59691454e-01, 6.69682192e-01,\n",
              "        6.79672930e-01, 6.89663667e-01, 6.99654405e-01, 7.09645143e-01,\n",
              "        7.19635880e-01, 7.29626618e-01, 7.39617356e-01, 7.49608094e-01,\n",
              "        7.59598831e-01, 7.69589569e-01, 7.79580307e-01, 7.89571045e-01,\n",
              "        7.99561782e-01, 8.09552520e-01, 8.19543258e-01, 8.29533995e-01,\n",
              "        8.39524733e-01, 8.49515471e-01, 8.59506209e-01, 8.69496946e-01,\n",
              "        8.79487684e-01, 8.89478422e-01, 8.99469160e-01, 9.09459897e-01,\n",
              "        9.19450635e-01, 9.29441373e-01, 9.39432111e-01, 9.49422848e-01,\n",
              "        9.59413586e-01, 9.69404324e-01, 9.79395061e-01, 9.89385799e-01,\n",
              "        9.99376537e-01]),\n",
              " <BarContainer object of 100 artists>)"
            ]
          },
          "metadata": {},
          "execution_count": 19
        },
        {
          "output_type": "display_data",
          "data": {
            "text/plain": [
              "<Figure size 640x480 with 1 Axes>"
            ],
            "image/png": "[encoded data removed]"
          },
          "metadata": {}
        }
      ]
    },
    {
      "cell_type": "code",
      "source": [
        "b = np.random.randn(10000)\n",
        "plt.hist(b,bins=200)"
      ],
      "metadata": {
        "colab": {
          "base_uri": "https://localhost:8080/",
          "height": 1000
        },
        "id": "Q42nt-ZbEvBk",
        "outputId": "153ee7de-def2-4af4-a873-946bd70db9d2"
      },
      "execution_count": 20,
      "outputs": [
        {
          "output_type": "execute_result",
          "data": {
            "text/plain": [
              "(array([  1.,   0.,   0.,   0.,   0.,   0.,   0.,   3.,   0.,   2.,   0.,\n",
              "          1.,   2.,   0.,   1.,   1.,   3.,   2.,   0.,   5.,   4.,   5.,\n",
              "          1.,   4.,   2.,   3.,   4.,   7.,   2.,   8.,   3.,   8.,   7.,\n",
              "          3.,  13.,   6.,  14.,  10.,   7.,   7.,  10.,   8.,  15.,  14.,\n",
              "         22.,  19.,  29.,  19.,  24.,  28.,  36.,  31.,  31.,  43.,  26.,\n",
              "         34.,  45.,  44.,  36.,  41.,  58.,  45.,  54.,  54.,  51.,  61.,\n",
              "         63.,  63.,  73.,  62.,  78.,  84.,  85.,  81., 103.,  98.,  81.,\n",
              "         92.,  93., 100.,  94., 111., 112., 106., 118., 110., 112., 125.,\n",
              "        132., 125., 121., 123., 142., 122., 146., 124., 114., 129., 146.,\n",
              "        152., 152., 134., 122., 138., 142., 146., 145., 144., 135., 122.,\n",
              "        129., 142., 133., 158., 123., 127., 123., 101., 145., 106., 128.,\n",
              "        113., 116., 108., 101.,  93., 110.,  87.,  92.,  82., 101.,  82.,\n",
              "         69.,  65.,  74.,  67.,  74.,  54.,  68.,  56.,  52.,  48.,  47.,\n",
              "         41.,  53.,  46.,  41.,  46.,  36.,  48.,  39.,  32.,  29.,  31.,\n",
              "         23.,  23.,  19.,  33.,  15.,  22.,  13.,  16.,  18.,   9.,  15.,\n",
              "         12.,  10.,   9.,  11.,  10.,   8.,   5.,   9.,   8.,  11.,   6.,\n",
              "          3.,  11.,   2.,   4.,   6.,   4.,   4.,   3.,   2.,   2.,   0.,\n",
              "          2.,   3.,   4.,   3.,   2.,   0.,   2.,   1.,   2.,   0.,   0.,\n",
              "          0.,   2.]),\n",
              " array([-3.54500409, -3.51035274, -3.47570139, -3.44105004, -3.40639869,\n",
              "        -3.37174734, -3.33709599, -3.30244465, -3.2677933 , -3.23314195,\n",
              "        -3.1984906 , -3.16383925, -3.1291879 , -3.09453655, -3.0598852 ,\n",
              "        -3.02523385, -2.9905825 , -2.95593115, -2.9212798 , -2.88662845,\n",
              "        -2.8519771 , -2.81732575, -2.7826744 , -2.74802305, -2.7133717 ,\n",
              "        -2.67872035, -2.644069  , -2.60941765, -2.5747663 , -2.54011495,\n",
              "        -2.50546361, -2.47081226, -2.43616091, -2.40150956, -2.36685821,\n",
              "        -2.33220686, -2.29755551, -2.26290416, -2.22825281, -2.19360146,\n",
              "        -2.15895011, -2.12429876, -2.08964741, -2.05499606, -2.02034471,\n",
              "        -1.98569336, -1.95104201, -1.91639066, -1.88173931, -1.84708796,\n",
              "        -1.81243661, -1.77778526, -1.74313391, -1.70848256, -1.67383122,\n",
              "        -1.63917987, -1.60452852, -1.56987717, -1.53522582, -1.50057447,\n",
              "        -1.46592312, -1.43127177, -1.39662042, -1.36196907, -1.32731772,\n",
              "        -1.29266637, -1.25801502, -1.22336367, -1.18871232, -1.15406097,\n",
              "        -1.11940962, -1.08475827, -1.05010692, -1.01545557, -0.98080422,\n",
              "        -0.94615287, -0.91150152, -0.87685018, -0.84219883, -0.80754748,\n",
              "        -0.77289613, -0.73824478, -0.70359343, -0.66894208, -0.63429073,\n",
              "        -0.59963938, -0.56498803, -0.53033668, -0.49568533, -0.46103398,\n",
              "        -0.42638263, -0.39173128, -0.35707993, -0.32242858, -0.28777723,\n",
              "        -0.25312588, -0.21847453, -0.18382318, -0.14917183, -0.11452048,\n",
              "        -0.07986914, -0.04521779, -0.01056644,  0.02408491,  0.05873626,\n",
              "         0.09338761,  0.12803896,  0.16269031,  0.19734166,  0.23199301,\n",
              "         0.26664436,  0.30129571,  0.33594706,  0.37059841,  0.40524976,\n",
              "         0.43990111,  0.47455246,  0.50920381,  0.54385516,  0.57850651,\n",
              "         0.61315786,  0.64780921,  0.68246056,  0.7171119 ,  0.75176325,\n",
              "         0.7864146 ,  0.82106595,  0.8557173 ,  0.89036865,  0.92502   ,\n",
              "         0.95967135,  0.9943227 ,  1.02897405,  1.0636254 ,  1.09827675,\n",
              "         1.1329281 ,  1.16757945,  1.2022308 ,  1.23688215,  1.2715335 ,\n",
              "         1.30618485,  1.3408362 ,  1.37548755,  1.4101389 ,  1.44479025,\n",
              "         1.4794416 ,  1.51409294,  1.54874429,  1.58339564,  1.61804699,\n",
              "         1.65269834,  1.68734969,  1.72200104,  1.75665239,  1.79130374,\n",
              "         1.82595509,  1.86060644,  1.89525779,  1.92990914,  1.96456049,\n",
              "         1.99921184,  2.03386319,  2.06851454,  2.10316589,  2.13781724,\n",
              "         2.17246859,  2.20711994,  2.24177129,  2.27642264,  2.31107399,\n",
              "         2.34572533,  2.38037668,  2.41502803,  2.44967938,  2.48433073,\n",
              "         2.51898208,  2.55363343,  2.58828478,  2.62293613,  2.65758748,\n",
              "         2.69223883,  2.72689018,  2.76154153,  2.79619288,  2.83084423,\n",
              "         2.86549558,  2.90014693,  2.93479828,  2.96944963,  3.00410098,\n",
              "         3.03875233,  3.07340368,  3.10805503,  3.14270637,  3.17735772,\n",
              "         3.21200907,  3.24666042,  3.28131177,  3.31596312,  3.35061447,\n",
              "         3.38526582]),\n",
              " <BarContainer object of 200 artists>)"
            ]
          },
          "metadata": {},
          "execution_count": 20
        },
        {
          "output_type": "display_data",
          "data": {
            "text/plain": [
              "<Figure size 640x480 with 1 Axes>"
            ],
            "image/png": "[encoded data removed]"
          },
          "metadata": {}
        }
      ]
    },
    {
      "cell_type": "code",
      "source": [
        "c = np.random.rand(3,3)\n",
        "print(c)"
      ],
      "metadata": {
        "colab": {
          "base_uri": "https://localhost:8080/"
        },
        "id": "6scMAn07HHGf",
        "outputId": "3e5a90e9-34e7-42a9-cb4d-8fcd02474a4a"
      },
      "execution_count": 21,
      "outputs": [
        {
          "output_type": "stream",
          "name": "stdout",
          "text": [
            "[[0.1264623  0.25395568 0.12099254]\n",
            " [0.20964729 0.99706638 0.12273261]\n",
            " [0.80384217 0.39879234 0.28096838]]\n"
          ]
        }
      ]
    },
    {
      "cell_type": "code",
      "source": [
        "d = np.round(10 * np.random.rand(3,3))\n",
        "print(d)"
      ],
      "metadata": {
        "colab": {
          "base_uri": "https://localhost:8080/"
        },
        "id": "d8OXcjF8HRML",
        "outputId": "74e32dbc-07f8-43c8-c1d6-20c32de71c27"
      },
      "execution_count": 22,
      "outputs": [
        {
          "output_type": "stream",
          "name": "stdout",
          "text": [
            "[[ 7.  4.  3.]\n",
            " [ 7.  2. 10.]\n",
            " [ 9.  7. 10.]]\n"
          ]
        }
      ]
    },
    {
      "cell_type": "code",
      "source": [
        "S = np.arange(1,101)\n",
        "S"
      ],
      "metadata": {
        "id": "eOJ6FRc7Cn3Z",
        "colab": {
          "base_uri": "https://localhost:8080/"
        },
        "outputId": "107b51c9-2930-4883-cf8f-2c425e1d6349"
      },
      "execution_count": 23,
      "outputs": [
        {
          "output_type": "execute_result",
          "data": {
            "text/plain": [
              "array([  1,   2,   3,   4,   5,   6,   7,   8,   9,  10,  11,  12,  13,\n",
              "        14,  15,  16,  17,  18,  19,  20,  21,  22,  23,  24,  25,  26,\n",
              "        27,  28,  29,  30,  31,  32,  33,  34,  35,  36,  37,  38,  39,\n",
              "        40,  41,  42,  43,  44,  45,  46,  47,  48,  49,  50,  51,  52,\n",
              "        53,  54,  55,  56,  57,  58,  59,  60,  61,  62,  63,  64,  65,\n",
              "        66,  67,  68,  69,  70,  71,  72,  73,  74,  75,  76,  77,  78,\n",
              "        79,  80,  81,  82,  83,  84,  85,  86,  87,  88,  89,  90,  91,\n",
              "        92,  93,  94,  95,  96,  97,  98,  99, 100])"
            ]
          },
          "metadata": {},
          "execution_count": 23
        }
      ]
    },
    {
      "cell_type": "code",
      "source": [
        "A = np.round(10 * np.random.rand(2,2))"
      ],
      "metadata": {
        "id": "weO18E6rMtFI"
      },
      "execution_count": 25,
      "outputs": []
    },
    {
      "cell_type": "code",
      "source": [
        "A"
      ],
      "metadata": {
        "colab": {
          "base_uri": "https://localhost:8080/"
        },
        "id": "YQtagipgNLCi",
        "outputId": "5dfc1974-2ab8-4019-f88f-fb41a4460fd3"
      },
      "execution_count": 26,
      "outputs": [
        {
          "output_type": "execute_result",
          "data": {
            "text/plain": [
              "array([[2., 1.],\n",
              "       [1., 9.]])"
            ]
          },
          "metadata": {},
          "execution_count": 26
        }
      ]
    },
    {
      "cell_type": "code",
      "source": [
        "B = np.round(10 * np.random.rand(2,2))"
      ],
      "metadata": {
        "id": "P1OoEAKzNDKG"
      },
      "execution_count": 28,
      "outputs": []
    },
    {
      "cell_type": "code",
      "source": [
        "B"
      ],
      "metadata": {
        "colab": {
          "base_uri": "https://localhost:8080/"
        },
        "id": "BOPDO8GBNNLi",
        "outputId": "ae1a3986-0992-4954-8b07-9d8ad6714563"
      },
      "execution_count": 29,
      "outputs": [
        {
          "output_type": "execute_result",
          "data": {
            "text/plain": [
              "array([[3., 2.],\n",
              "       [7., 1.]])"
            ]
          },
          "metadata": {},
          "execution_count": 29
        }
      ]
    },
    {
      "cell_type": "code",
      "source": [
        "C = np.hstack((A,B))"
      ],
      "metadata": {
        "id": "f_N3CK4TNSV-"
      },
      "execution_count": 31,
      "outputs": []
    },
    {
      "cell_type": "code",
      "source": [
        "C"
      ],
      "metadata": {
        "colab": {
          "base_uri": "https://localhost:8080/"
        },
        "id": "scLE2SNVNimm",
        "outputId": "82db675d-5b21-4b32-eedb-27183b7f8bdc"
      },
      "execution_count": 32,
      "outputs": [
        {
          "output_type": "execute_result",
          "data": {
            "text/plain": [
              "array([[2., 1., 3., 2.],\n",
              "       [1., 9., 7., 1.]])"
            ]
          },
          "metadata": {},
          "execution_count": 32
        }
      ]
    },
    {
      "cell_type": "code",
      "source": [
        "Arr = np.array(['143','120','India','America','Bharat'])"
      ],
      "metadata": {
        "id": "W6apUax-No_m"
      },
      "execution_count": 35,
      "outputs": []
    },
    {
      "cell_type": "code",
      "source": [
        "Arr.sort()"
      ],
      "metadata": {
        "id": "TpVbnmaINiqG"
      },
      "execution_count": 36,
      "outputs": []
    },
    {
      "cell_type": "code",
      "source": [
        "Arr"
      ],
      "metadata": {
        "colab": {
          "base_uri": "https://localhost:8080/"
        },
        "id": "OqUWIvgYN87E",
        "outputId": "ab090735-f94f-413e-eddd-54543a9bf982"
      },
      "execution_count": 37,
      "outputs": [
        {
          "output_type": "execute_result",
          "data": {
            "text/plain": [
              "array(['120', '143', 'America', 'Bharat', 'India'], dtype='<U7')"
            ]
          },
          "metadata": {},
          "execution_count": 37
        }
      ]
    },
    {
      "cell_type": "code",
      "source": [
        "import pandas as pd"
      ],
      "metadata": {
        "id": "agHkLZ6MQ57O"
      },
      "execution_count": 38,
      "outputs": []
    },
    {
      "cell_type": "code",
      "source": [
        "print(pd.__version__)"
      ],
      "metadata": {
        "colab": {
          "base_uri": "https://localhost:8080/"
        },
        "id": "2NP-pHIeQ9Ne",
        "outputId": "2e4731e6-8f5b-40e9-e6a9-d0c5cb87c507"
      },
      "execution_count": 39,
      "outputs": [
        {
          "output_type": "stream",
          "name": "stdout",
          "text": [
            "2.2.2\n"
          ]
        }
      ]
    },
    {
      "cell_type": "code",
      "source": [
        "A = pd.Series([1,2,3,4,5],index=['a','b','c','d','e'])"
      ],
      "metadata": {
        "id": "yw1eNQZRRCWd"
      },
      "execution_count": 40,
      "outputs": []
    },
    {
      "cell_type": "code",
      "source": [
        "print(A[\"a\"])"
      ],
      "metadata": {
        "colab": {
          "base_uri": "https://localhost:8080/"
        },
        "id": "_WgXhC9yRdOr",
        "outputId": "9345e43e-fcfe-4be9-a152-9a0b175af64d"
      },
      "execution_count": 42,
      "outputs": [
        {
          "output_type": "stream",
          "name": "stdout",
          "text": [
            "1\n"
          ]
        }
      ]
    },
    {
      "cell_type": "code",
      "source": [
        "A.index"
      ],
      "metadata": {
        "colab": {
          "base_uri": "https://localhost:8080/"
        },
        "id": "h_J_rPuXRjHy",
        "outputId": "8d63e0f4-07b7-4ae2-f720-766c7f62f6a0"
      },
      "execution_count": 43,
      "outputs": [
        {
          "output_type": "execute_result",
          "data": {
            "text/plain": [
              "Index(['a', 'b', 'c', 'd', 'e'], dtype='object')"
            ]
          },
          "metadata": {},
          "execution_count": 43
        }
      ]
    },
    {
      "cell_type": "code",
      "source": [
        "A.values"
      ],
      "metadata": {
        "colab": {
          "base_uri": "https://localhost:8080/"
        },
        "id": "hiqSSkD4Rmgs",
        "outputId": "685d7a72-0cd6-4dcc-c27f-849f4d164ad1"
      },
      "execution_count": 44,
      "outputs": [
        {
          "output_type": "execute_result",
          "data": {
            "text/plain": [
              "array([1, 2, 3, 4, 5])"
            ]
          },
          "metadata": {},
          "execution_count": 44
        }
      ]
    },
    {
      "cell_type": "code",
      "source": [
        "A['a':'e']"
      ],
      "metadata": {
        "colab": {
          "base_uri": "https://localhost:8080/",
          "height": 241
        },
        "id": "IrYzXd1sSFW7",
        "outputId": "390efc81-1f11-483b-a537-0495c2de0b49"
      },
      "execution_count": 45,
      "outputs": [
        {
          "output_type": "execute_result",
          "data": {
            "text/plain": [
              "a    1\n",
              "b    2\n",
              "c    3\n",
              "d    4\n",
              "e    5\n",
              "dtype: int64"
            ],
            "text/html": [
              "<div>\n",
              "<style scoped>\n",
              "    .dataframe tbody tr th:only-of-type {\n",
              "        vertical-align: middle;\n",
              "    }\n",
              "\n",
              "    .dataframe tbody tr th {\n",
              "        vertical-align: top;\n",
              "    }\n",
              "\n",
              "    .dataframe thead th {\n",
              "        text-align: right;\n",
              "    }\n",
              "</style>\n",
              "<table border=\"1\" class=\"dataframe\">\n",
              "  <thead>\n",
              "    <tr style=\"text-align: right;\">\n",
              "      <th></th>\n",
              "      <th>0</th>\n",
              "    </tr>\n",
              "  </thead>\n",
              "  <tbody>\n",
              "    <tr>\n",
              "      <th>a</th>\n",
              "      <td>1</td>\n",
              "    </tr>\n",
              "    <tr>\n",
              "      <th>b</th>\n",
              "      <td>2</td>\n",
              "    </tr>\n",
              "    <tr>\n",
              "      <th>c</th>\n",
              "      <td>3</td>\n",
              "    </tr>\n",
              "    <tr>\n",
              "      <th>d</th>\n",
              "      <td>4</td>\n",
              "    </tr>\n",
              "    <tr>\n",
              "      <th>e</th>\n",
              "      <td>5</td>\n",
              "    </tr>\n",
              "  </tbody>\n",
              "</table>\n",
              "</div><br><label><b>dtype:</b> int64</label>"
            ]
          },
          "metadata": {},
          "execution_count": 45
        }
      ]
    },
    {
      "cell_type": "code",
      "source": [
        "Grades_list = {'O':10 , 'A+':9 , 'A':8 , 'B+':7, 'B':6 , 'C':5 , 'D':4}\n",
        "Grades = pd.Series(Grades_list)\n"
      ],
      "metadata": {
        "id": "7MgOTFetSI9o"
      },
      "execution_count": 60,
      "outputs": []
    },
    {
      "cell_type": "code",
      "source": [
        "Grades"
      ],
      "metadata": {
        "colab": {
          "base_uri": "https://localhost:8080/",
          "height": 303
        },
        "id": "Z1V96vFVVIic",
        "outputId": "0ad97408-db10-4498-e15f-63af0f652960"
      },
      "execution_count": 61,
      "outputs": [
        {
          "output_type": "execute_result",
          "data": {
            "text/plain": [
              "O     10\n",
              "A+     9\n",
              "A      8\n",
              "B+     7\n",
              "B      6\n",
              "C      5\n",
              "D      4\n",
              "dtype: int64"
            ],
            "text/html": [
              "<div>\n",
              "<style scoped>\n",
              "    .dataframe tbody tr th:only-of-type {\n",
              "        vertical-align: middle;\n",
              "    }\n",
              "\n",
              "    .dataframe tbody tr th {\n",
              "        vertical-align: top;\n",
              "    }\n",
              "\n",
              "    .dataframe thead th {\n",
              "        text-align: right;\n",
              "    }\n",
              "</style>\n",
              "<table border=\"1\" class=\"dataframe\">\n",
              "  <thead>\n",
              "    <tr style=\"text-align: right;\">\n",
              "      <th></th>\n",
              "      <th>0</th>\n",
              "    </tr>\n",
              "  </thead>\n",
              "  <tbody>\n",
              "    <tr>\n",
              "      <th>O</th>\n",
              "      <td>10</td>\n",
              "    </tr>\n",
              "    <tr>\n",
              "      <th>A+</th>\n",
              "      <td>9</td>\n",
              "    </tr>\n",
              "    <tr>\n",
              "      <th>A</th>\n",
              "      <td>8</td>\n",
              "    </tr>\n",
              "    <tr>\n",
              "      <th>B+</th>\n",
              "      <td>7</td>\n",
              "    </tr>\n",
              "    <tr>\n",
              "      <th>B</th>\n",
              "      <td>6</td>\n",
              "    </tr>\n",
              "    <tr>\n",
              "      <th>C</th>\n",
              "      <td>5</td>\n",
              "    </tr>\n",
              "    <tr>\n",
              "      <th>D</th>\n",
              "      <td>4</td>\n",
              "    </tr>\n",
              "  </tbody>\n",
              "</table>\n",
              "</div><br><label><b>dtype:</b> int64</label>"
            ]
          },
          "metadata": {},
          "execution_count": 61
        }
      ]
    },
    {
      "cell_type": "code",
      "source": [
        "Marks_List = {'O':90 , 'A+':83 , 'A':75 , 'B+':68 , 'B':60 , 'C':53 , 'D':45}\n",
        "Marks = pd.Series(Marks_List)\n",
        "Marks"
      ],
      "metadata": {
        "colab": {
          "base_uri": "https://localhost:8080/",
          "height": 303
        },
        "id": "_GVHliunVKV8",
        "outputId": "4b3f5cdf-e720-4fdd-a78e-ad7bfbffb039"
      },
      "execution_count": 62,
      "outputs": [
        {
          "output_type": "execute_result",
          "data": {
            "text/plain": [
              "O     90\n",
              "A+    83\n",
              "A     75\n",
              "B+    68\n",
              "B     60\n",
              "C     53\n",
              "D     45\n",
              "dtype: int64"
            ],
            "text/html": [
              "<div>\n",
              "<style scoped>\n",
              "    .dataframe tbody tr th:only-of-type {\n",
              "        vertical-align: middle;\n",
              "    }\n",
              "\n",
              "    .dataframe tbody tr th {\n",
              "        vertical-align: top;\n",
              "    }\n",
              "\n",
              "    .dataframe thead th {\n",
              "        text-align: right;\n",
              "    }\n",
              "</style>\n",
              "<table border=\"1\" class=\"dataframe\">\n",
              "  <thead>\n",
              "    <tr style=\"text-align: right;\">\n",
              "      <th></th>\n",
              "      <th>0</th>\n",
              "    </tr>\n",
              "  </thead>\n",
              "  <tbody>\n",
              "    <tr>\n",
              "      <th>O</th>\n",
              "      <td>90</td>\n",
              "    </tr>\n",
              "    <tr>\n",
              "      <th>A+</th>\n",
              "      <td>83</td>\n",
              "    </tr>\n",
              "    <tr>\n",
              "      <th>A</th>\n",
              "      <td>75</td>\n",
              "    </tr>\n",
              "    <tr>\n",
              "      <th>B+</th>\n",
              "      <td>68</td>\n",
              "    </tr>\n",
              "    <tr>\n",
              "      <th>B</th>\n",
              "      <td>60</td>\n",
              "    </tr>\n",
              "    <tr>\n",
              "      <th>C</th>\n",
              "      <td>53</td>\n",
              "    </tr>\n",
              "    <tr>\n",
              "      <th>D</th>\n",
              "      <td>45</td>\n",
              "    </tr>\n",
              "  </tbody>\n",
              "</table>\n",
              "</div><br><label><b>dtype:</b> int64</label>"
            ]
          },
          "metadata": {},
          "execution_count": 62
        }
      ]
    },
    {
      "cell_type": "code",
      "source": [
        "Table = pd.DataFrame({'Grades': Grades , 'Marks': Marks})\n",
        "Table"
      ],
      "metadata": {
        "colab": {
          "base_uri": "https://localhost:8080/",
          "height": 269
        },
        "id": "c9Qol-1gV9Es",
        "outputId": "02161552-99b7-4398-cc04-fddcbaeba1b2"
      },
      "execution_count": 63,
      "outputs": [
        {
          "output_type": "execute_result",
          "data": {
            "text/plain": [
              "    Grades  Marks\n",
              "O       10     90\n",
              "A+       9     83\n",
              "A        8     75\n",
              "B+       7     68\n",
              "B        6     60\n",
              "C        5     53\n",
              "D        4     45"
            ],
            "text/html": [
              "\n",
              "  <div id=\"df-58d809f3-a5a0-4923-9160-fb90df857697\" class=\"colab-df-container\">\n",
              "    <div>\n",
              "<style scoped>\n",
              "    .dataframe tbody tr th:only-of-type {\n",
              "        vertical-align: middle;\n",
              "    }\n",
              "\n",
              "    .dataframe tbody tr th {\n",
              "        vertical-align: top;\n",
              "    }\n",
              "\n",
              "    .dataframe thead th {\n",
              "        text-align: right;\n",
              "    }\n",
              "</style>\n",
              "<table border=\"1\" class=\"dataframe\">\n",
              "  <thead>\n",
              "    <tr style=\"text-align: right;\">\n",
              "      <th></th>\n",
              "      <th>Grades</th>\n",
              "      <th>Marks</th>\n",
              "    </tr>\n",
              "  </thead>\n",
              "  <tbody>\n",
              "    <tr>\n",
              "      <th>O</th>\n",
              "      <td>10</td>\n",
              "      <td>90</td>\n",
              "    </tr>\n",
              "    <tr>\n",
              "      <th>A+</th>\n",
              "      <td>9</td>\n",
              "      <td>83</td>\n",
              "    </tr>\n",
              "    <tr>\n",
              "      <th>A</th>\n",
              "      <td>8</td>\n",
              "      <td>75</td>\n",
              "    </tr>\n",
              "    <tr>\n",
              "      <th>B+</th>\n",
              "      <td>7</td>\n",
              "      <td>68</td>\n",
              "    </tr>\n",
              "    <tr>\n",
              "      <th>B</th>\n",
              "      <td>6</td>\n",
              "      <td>60</td>\n",
              "    </tr>\n",
              "    <tr>\n",
              "      <th>C</th>\n",
              "      <td>5</td>\n",
              "      <td>53</td>\n",
              "    </tr>\n",
              "    <tr>\n",
              "      <th>D</th>\n",
              "      <td>4</td>\n",
              "      <td>45</td>\n",
              "    </tr>\n",
              "  </tbody>\n",
              "</table>\n",
              "</div>\n",
              "    <div class=\"colab-df-buttons\">\n",
              "\n",
              "  <div class=\"colab-df-container\">\n",
              "    <button class=\"colab-df-convert\" onclick=\"convertToInteractive('df-58d809f3-a5a0-4923-9160-fb90df857697')\"\n",
              "            title=\"Convert this dataframe to an interactive table.\"\n",
              "            style=\"display:none;\">\n",
              "\n",
              "  <svg xmlns=\"http://www.w3.org/2000/svg\" height=\"24px\" viewBox=\"0 -960 960 960\">\n",
              "    <path d=\"M120-120v-720h720v720H120Zm60-500h600v-160H180v160Zm220 220h160v-160H400v160Zm0 220h160v-160H400v160ZM180-400h160v-160H180v160Zm440 0h160v-160H620v160ZM180-180h160v-160H180v160Zm440 0h160v-160H620v160Z\"/>\n",
              "  </svg>\n",
              "    </button>\n",
              "\n",
              "  <style>\n",
              "    .colab-df-container {\n",
              "      display:flex;\n",
              "      gap: 12px;\n",
              "    }\n",
              "\n",
              "    .colab-df-convert {\n",
              "      background-color: #E8F0FE;\n",
              "      border: none;\n",
              "      border-radius: 50%;\n",
              "      cursor: pointer;\n",
              "      display: none;\n",
              "      fill: #1967D2;\n",
              "      height: 32px;\n",
              "      padding: 0 0 0 0;\n",
              "      width: 32px;\n",
              "    }\n",
              "\n",
              "    .colab-df-convert:hover {\n",
              "      background-color: #E2EBFA;\n",
              "      box-shadow: 0px 1px 2px rgba(60, 64, 67, 0.3), 0px 1px 3px 1px rgba(60, 64, 67, 0.15);\n",
              "      fill: #174EA6;\n",
              "    }\n",
              "\n",
              "    .colab-df-buttons div {\n",
              "      margin-bottom: 4px;\n",
              "    }\n",
              "\n",
              "    [theme=dark] .colab-df-convert {\n",
              "      background-color: #3B4455;\n",
              "      fill: #D2E3FC;\n",
              "    }\n",
              "\n",
              "    [theme=dark] .colab-df-convert:hover {\n",
              "      background-color: #434B5C;\n",
              "      box-shadow: 0px 1px 3px 1px rgba(0, 0, 0, 0.15);\n",
              "      filter: drop-shadow(0px 1px 2px rgba(0, 0, 0, 0.3));\n",
              "      fill: #FFFFFF;\n",
              "    }\n",
              "  </style>\n",
              "\n",
              "    <script>\n",
              "      const buttonEl =\n",
              "        document.querySelector('#df-58d809f3-a5a0-4923-9160-fb90df857697 button.colab-df-convert');\n",
              "      buttonEl.style.display =\n",
              "        google.colab.kernel.accessAllowed ? 'block' : 'none';\n",
              "\n",
              "      async function convertToInteractive(key) {\n",
              "        const element = document.querySelector('#df-58d809f3-a5a0-4923-9160-fb90df857697');\n",
              "        const dataTable =\n",
              "          await google.colab.kernel.invokeFunction('convertToInteractive',\n",
              "                                                    [key], {});\n",
              "        if (!dataTable) return;\n",
              "\n",
              "        const docLinkHtml = 'Like what you see? Visit the ' +\n",
              "          '<a target=\"_blank\" href=https://colab.research.google.com/notebooks/data_table.ipynb>data table notebook</a>'\n",
              "          + ' to learn more about interactive tables.';\n",
              "        element.innerHTML = '';\n",
              "        dataTable['output_type'] = 'display_data';\n",
              "        await google.colab.output.renderOutput(dataTable, element);\n",
              "        const docLink = document.createElement('div');\n",
              "        docLink.innerHTML = docLinkHtml;\n",
              "        element.appendChild(docLink);\n",
              "      }\n",
              "    </script>\n",
              "  </div>\n",
              "\n",
              "\n",
              "    <div id=\"df-242abe6a-d6d1-485f-8935-f899776974c9\">\n",
              "      <button class=\"colab-df-quickchart\" onclick=\"quickchart('df-242abe6a-d6d1-485f-8935-f899776974c9')\"\n",
              "                title=\"Suggest charts\"\n",
              "                style=\"display:none;\">\n",
              "\n",
              "<svg xmlns=\"http://www.w3.org/2000/svg\" height=\"24px\"viewBox=\"0 0 24 24\"\n",
              "     width=\"24px\">\n",
              "    <g>\n",
              "        <path d=\"M19 3H5c-1.1 0-2 .9-2 2v14c0 1.1.9 2 2 2h14c1.1 0 2-.9 2-2V5c0-1.1-.9-2-2-2zM9 17H7v-7h2v7zm4 0h-2V7h2v10zm4 0h-2v-4h2v4z\"/>\n",
              "    </g>\n",
              "</svg>\n",
              "      </button>\n",
              "\n",
              "<style>\n",
              "  .colab-df-quickchart {\n",
              "      --bg-color: #E8F0FE;\n",
              "      --fill-color: #1967D2;\n",
              "      --hover-bg-color: #E2EBFA;\n",
              "      --hover-fill-color: #174EA6;\n",
              "      --disabled-fill-color: #AAA;\n",
              "      --disabled-bg-color: #DDD;\n",
              "  }\n",
              "\n",
              "  [theme=dark] .colab-df-quickchart {\n",
              "      --bg-color: #3B4455;\n",
              "      --fill-color: #D2E3FC;\n",
              "      --hover-bg-color: #434B5C;\n",
              "      --hover-fill-color: #FFFFFF;\n",
              "      --disabled-bg-color: #3B4455;\n",
              "      --disabled-fill-color: #666;\n",
              "  }\n",
              "\n",
              "  .colab-df-quickchart {\n",
              "    background-color: var(--bg-color);\n",
              "    border: none;\n",
              "    border-radius: 50%;\n",
              "    cursor: pointer;\n",
              "    display: none;\n",
              "    fill: var(--fill-color);\n",
              "    height: 32px;\n",
              "    padding: 0;\n",
              "    width: 32px;\n",
              "  }\n",
              "\n",
              "  .colab-df-quickchart:hover {\n",
              "    background-color: var(--hover-bg-color);\n",
              "    box-shadow: 0 1px 2px rgba(60, 64, 67, 0.3), 0 1px 3px 1px rgba(60, 64, 67, 0.15);\n",
              "    fill: var(--button-hover-fill-color);\n",
              "  }\n",
              "\n",
              "  .colab-df-quickchart-complete:disabled,\n",
              "  .colab-df-quickchart-complete:disabled:hover {\n",
              "    background-color: var(--disabled-bg-color);\n",
              "    fill: var(--disabled-fill-color);\n",
              "    box-shadow: none;\n",
              "  }\n",
              "\n",
              "  .colab-df-spinner {\n",
              "    border: 2px solid var(--fill-color);\n",
              "    border-color: transparent;\n",
              "    border-bottom-color: var(--fill-color);\n",
              "    animation:\n",
              "      spin 1s steps(1) infinite;\n",
              "  }\n",
              "\n",
              "  @keyframes spin {\n",
              "    0% {\n",
              "      border-color: transparent;\n",
              "      border-bottom-color: var(--fill-color);\n",
              "      border-left-color: var(--fill-color);\n",
              "    }\n",
              "    20% {\n",
              "      border-color: transparent;\n",
              "      border-left-color: var(--fill-color);\n",
              "      border-top-color: var(--fill-color);\n",
              "    }\n",
              "    30% {\n",
              "      border-color: transparent;\n",
              "      border-left-color: var(--fill-color);\n",
              "      border-top-color: var(--fill-color);\n",
              "      border-right-color: var(--fill-color);\n",
              "    }\n",
              "    40% {\n",
              "      border-color: transparent;\n",
              "      border-right-color: var(--fill-color);\n",
              "      border-top-color: var(--fill-color);\n",
              "    }\n",
              "    60% {\n",
              "      border-color: transparent;\n",
              "      border-right-color: var(--fill-color);\n",
              "    }\n",
              "    80% {\n",
              "      border-color: transparent;\n",
              "      border-right-color: var(--fill-color);\n",
              "      border-bottom-color: var(--fill-color);\n",
              "    }\n",
              "    90% {\n",
              "      border-color: transparent;\n",
              "      border-bottom-color: var(--fill-color);\n",
              "    }\n",
              "  }\n",
              "</style>\n",
              "\n",
              "      <script>\n",
              "        async function quickchart(key) {\n",
              "          const quickchartButtonEl =\n",
              "            document.querySelector('#' + key + ' button');\n",
              "          quickchartButtonEl.disabled = true;  // To prevent multiple clicks.\n",
              "          quickchartButtonEl.classList.add('colab-df-spinner');\n",
              "          try {\n",
              "            const charts = await google.colab.kernel.invokeFunction(\n",
              "                'suggestCharts', [key], {});\n",
              "          } catch (error) {\n",
              "            console.error('Error during call to suggestCharts:', error);\n",
              "          }\n",
              "          quickchartButtonEl.classList.remove('colab-df-spinner');\n",
              "          quickchartButtonEl.classList.add('colab-df-quickchart-complete');\n",
              "        }\n",
              "        (() => {\n",
              "          let quickchartButtonEl =\n",
              "            document.querySelector('#df-242abe6a-d6d1-485f-8935-f899776974c9 button');\n",
              "          quickchartButtonEl.style.display =\n",
              "            google.colab.kernel.accessAllowed ? 'block' : 'none';\n",
              "        })();\n",
              "      </script>\n",
              "    </div>\n",
              "\n",
              "  <div id=\"id_a72efa8d-5e6e-4d76-bae5-348b2719aecb\">\n",
              "    <style>\n",
              "      .colab-df-generate {\n",
              "        background-color: #E8F0FE;\n",
              "        border: none;\n",
              "        border-radius: 50%;\n",
              "        cursor: pointer;\n",
              "        display: none;\n",
              "        fill: #1967D2;\n",
              "        height: 32px;\n",
              "        padding: 0 0 0 0;\n",
              "        width: 32px;\n",
              "      }\n",
              "\n",
              "      .colab-df-generate:hover {\n",
              "        background-color: #E2EBFA;\n",
              "        box-shadow: 0px 1px 2px rgba(60, 64, 67, 0.3), 0px 1px 3px 1px rgba(60, 64, 67, 0.15);\n",
              "        fill: #174EA6;\n",
              "      }\n",
              "\n",
              "      [theme=dark] .colab-df-generate {\n",
              "        background-color: #3B4455;\n",
              "        fill: #D2E3FC;\n",
              "      }\n",
              "\n",
              "      [theme=dark] .colab-df-generate:hover {\n",
              "        background-color: #434B5C;\n",
              "        box-shadow: 0px 1px 3px 1px rgba(0, 0, 0, 0.15);\n",
              "        filter: drop-shadow(0px 1px 2px rgba(0, 0, 0, 0.3));\n",
              "        fill: #FFFFFF;\n",
              "      }\n",
              "    </style>\n",
              "    <button class=\"colab-df-generate\" onclick=\"generateWithVariable('Table')\"\n",
              "            title=\"Generate code using this dataframe.\"\n",
              "            style=\"display:none;\">\n",
              "\n",
              "  <svg xmlns=\"http://www.w3.org/2000/svg\" height=\"24px\"viewBox=\"0 0 24 24\"\n",
              "       width=\"24px\">\n",
              "    <path d=\"M7,19H8.4L18.45,9,17,7.55,7,17.6ZM5,21V16.75L18.45,3.32a2,2,0,0,1,2.83,0l1.4,1.43a1.91,1.91,0,0,1,.58,1.4,1.91,1.91,0,0,1-.58,1.4L9.25,21ZM18.45,9,17,7.55Zm-12,3A5.31,5.31,0,0,0,4.9,8.1,5.31,5.31,0,0,0,1,6.5,5.31,5.31,0,0,0,4.9,4.9,5.31,5.31,0,0,0,6.5,1,5.31,5.31,0,0,0,8.1,4.9,5.31,5.31,0,0,0,12,6.5,5.46,5.46,0,0,0,6.5,12Z\"/>\n",
              "  </svg>\n",
              "    </button>\n",
              "    <script>\n",
              "      (() => {\n",
              "      const buttonEl =\n",
              "        document.querySelector('#id_a72efa8d-5e6e-4d76-bae5-348b2719aecb button.colab-df-generate');\n",
              "      buttonEl.style.display =\n",
              "        google.colab.kernel.accessAllowed ? 'block' : 'none';\n",
              "\n",
              "      buttonEl.onclick = () => {\n",
              "        google.colab.notebook.generateWithVariable('Table');\n",
              "      }\n",
              "      })();\n",
              "    </script>\n",
              "  </div>\n",
              "\n",
              "    </div>\n",
              "  </div>\n"
            ],
            "application/vnd.google.colaboratory.intrinsic+json": {
              "type": "dataframe",
              "variable_name": "Table",
              "summary": "{\n  \"name\": \"Table\",\n  \"rows\": 7,\n  \"fields\": [\n    {\n      \"column\": \"Grades\",\n      \"properties\": {\n        \"dtype\": \"number\",\n        \"std\": 2,\n        \"min\": 4,\n        \"max\": 10,\n        \"num_unique_values\": 7,\n        \"samples\": [\n          10,\n          9,\n          5\n        ],\n        \"semantic_type\": \"\",\n        \"description\": \"\"\n      }\n    },\n    {\n      \"column\": \"Marks\",\n      \"properties\": {\n        \"dtype\": \"number\",\n        \"std\": 16,\n        \"min\": 45,\n        \"max\": 90,\n        \"num_unique_values\": 7,\n        \"samples\": [\n          90,\n          83,\n          53\n        ],\n        \"semantic_type\": \"\",\n        \"description\": \"\"\n      }\n    }\n  ]\n}"
            }
          },
          "metadata": {},
          "execution_count": 63
        }
      ]
    },
    {
      "cell_type": "code",
      "source": [
        "Table.T"
      ],
      "metadata": {
        "colab": {
          "base_uri": "https://localhost:8080/",
          "height": 112
        },
        "id": "aCEK-q_7WVog",
        "outputId": "963fe7d7-c961-4ed0-ef02-1ba97c05be8c"
      },
      "execution_count": 64,
      "outputs": [
        {
          "output_type": "execute_result",
          "data": {
            "text/plain": [
              "         O  A+   A  B+   B   C   D\n",
              "Grades  10   9   8   7   6   5   4\n",
              "Marks   90  83  75  68  60  53  45"
            ],
            "text/html": [
              "\n",
              "  <div id=\"df-ef710dd6-be8c-4913-bece-48407732d6c3\" class=\"colab-df-container\">\n",
              "    <div>\n",
              "<style scoped>\n",
              "    .dataframe tbody tr th:only-of-type {\n",
              "        vertical-align: middle;\n",
              "    }\n",
              "\n",
              "    .dataframe tbody tr th {\n",
              "        vertical-align: top;\n",
              "    }\n",
              "\n",
              "    .dataframe thead th {\n",
              "        text-align: right;\n",
              "    }\n",
              "</style>\n",
              "<table border=\"1\" class=\"dataframe\">\n",
              "  <thead>\n",
              "    <tr style=\"text-align: right;\">\n",
              "      <th></th>\n",
              "      <th>O</th>\n",
              "      <th>A+</th>\n",
              "      <th>A</th>\n",
              "      <th>B+</th>\n",
              "      <th>B</th>\n",
              "      <th>C</th>\n",
              "      <th>D</th>\n",
              "    </tr>\n",
              "  </thead>\n",
              "  <tbody>\n",
              "    <tr>\n",
              "      <th>Grades</th>\n",
              "      <td>10</td>\n",
              "      <td>9</td>\n",
              "      <td>8</td>\n",
              "      <td>7</td>\n",
              "      <td>6</td>\n",
              "      <td>5</td>\n",
              "      <td>4</td>\n",
              "    </tr>\n",
              "    <tr>\n",
              "      <th>Marks</th>\n",
              "      <td>90</td>\n",
              "      <td>83</td>\n",
              "      <td>75</td>\n",
              "      <td>68</td>\n",
              "      <td>60</td>\n",
              "      <td>53</td>\n",
              "      <td>45</td>\n",
              "    </tr>\n",
              "  </tbody>\n",
              "</table>\n",
              "</div>\n",
              "    <div class=\"colab-df-buttons\">\n",
              "\n",
              "  <div class=\"colab-df-container\">\n",
              "    <button class=\"colab-df-convert\" onclick=\"convertToInteractive('df-ef710dd6-be8c-4913-bece-48407732d6c3')\"\n",
              "            title=\"Convert this dataframe to an interactive table.\"\n",
              "            style=\"display:none;\">\n",
              "\n",
              "  <svg xmlns=\"http://www.w3.org/2000/svg\" height=\"24px\" viewBox=\"0 -960 960 960\">\n",
              "    <path d=\"M120-120v-720h720v720H120Zm60-500h600v-160H180v160Zm220 220h160v-160H400v160Zm0 220h160v-160H400v160ZM180-400h160v-160H180v160Zm440 0h160v-160H620v160ZM180-180h160v-160H180v160Zm440 0h160v-160H620v160Z\"/>\n",
              "  </svg>\n",
              "    </button>\n",
              "\n",
              "  <style>\n",
              "    .colab-df-container {\n",
              "      display:flex;\n",
              "      gap: 12px;\n",
              "    }\n",
              "\n",
              "    .colab-df-convert {\n",
              "      background-color: #E8F0FE;\n",
              "      border: none;\n",
              "      border-radius: 50%;\n",
              "      cursor: pointer;\n",
              "      display: none;\n",
              "      fill: #1967D2;\n",
              "      height: 32px;\n",
              "      padding: 0 0 0 0;\n",
              "      width: 32px;\n",
              "    }\n",
              "\n",
              "    .colab-df-convert:hover {\n",
              "      background-color: #E2EBFA;\n",
              "      box-shadow: 0px 1px 2px rgba(60, 64, 67, 0.3), 0px 1px 3px 1px rgba(60, 64, 67, 0.15);\n",
              "      fill: #174EA6;\n",
              "    }\n",
              "\n",
              "    .colab-df-buttons div {\n",
              "      margin-bottom: 4px;\n",
              "    }\n",
              "\n",
              "    [theme=dark] .colab-df-convert {\n",
              "      background-color: #3B4455;\n",
              "      fill: #D2E3FC;\n",
              "    }\n",
              "\n",
              "    [theme=dark] .colab-df-convert:hover {\n",
              "      background-color: #434B5C;\n",
              "      box-shadow: 0px 1px 3px 1px rgba(0, 0, 0, 0.15);\n",
              "      filter: drop-shadow(0px 1px 2px rgba(0, 0, 0, 0.3));\n",
              "      fill: #FFFFFF;\n",
              "    }\n",
              "  </style>\n",
              "\n",
              "    <script>\n",
              "      const buttonEl =\n",
              "        document.querySelector('#df-ef710dd6-be8c-4913-bece-48407732d6c3 button.colab-df-convert');\n",
              "      buttonEl.style.display =\n",
              "        google.colab.kernel.accessAllowed ? 'block' : 'none';\n",
              "\n",
              "      async function convertToInteractive(key) {\n",
              "        const element = document.querySelector('#df-ef710dd6-be8c-4913-bece-48407732d6c3');\n",
              "        const dataTable =\n",
              "          await google.colab.kernel.invokeFunction('convertToInteractive',\n",
              "                                                    [key], {});\n",
              "        if (!dataTable) return;\n",
              "\n",
              "        const docLinkHtml = 'Like what you see? Visit the ' +\n",
              "          '<a target=\"_blank\" href=https://colab.research.google.com/notebooks/data_table.ipynb>data table notebook</a>'\n",
              "          + ' to learn more about interactive tables.';\n",
              "        element.innerHTML = '';\n",
              "        dataTable['output_type'] = 'display_data';\n",
              "        await google.colab.output.renderOutput(dataTable, element);\n",
              "        const docLink = document.createElement('div');\n",
              "        docLink.innerHTML = docLinkHtml;\n",
              "        element.appendChild(docLink);\n",
              "      }\n",
              "    </script>\n",
              "  </div>\n",
              "\n",
              "\n",
              "    <div id=\"df-c6940ca1-8694-42ad-b252-cb86ffd002db\">\n",
              "      <button class=\"colab-df-quickchart\" onclick=\"quickchart('df-c6940ca1-8694-42ad-b252-cb86ffd002db')\"\n",
              "                title=\"Suggest charts\"\n",
              "                style=\"display:none;\">\n",
              "\n",
              "<svg xmlns=\"http://www.w3.org/2000/svg\" height=\"24px\"viewBox=\"0 0 24 24\"\n",
              "     width=\"24px\">\n",
              "    <g>\n",
              "        <path d=\"M19 3H5c-1.1 0-2 .9-2 2v14c0 1.1.9 2 2 2h14c1.1 0 2-.9 2-2V5c0-1.1-.9-2-2-2zM9 17H7v-7h2v7zm4 0h-2V7h2v10zm4 0h-2v-4h2v4z\"/>\n",
              "    </g>\n",
              "</svg>\n",
              "      </button>\n",
              "\n",
              "<style>\n",
              "  .colab-df-quickchart {\n",
              "      --bg-color: #E8F0FE;\n",
              "      --fill-color: #1967D2;\n",
              "      --hover-bg-color: #E2EBFA;\n",
              "      --hover-fill-color: #174EA6;\n",
              "      --disabled-fill-color: #AAA;\n",
              "      --disabled-bg-color: #DDD;\n",
              "  }\n",
              "\n",
              "  [theme=dark] .colab-df-quickchart {\n",
              "      --bg-color: #3B4455;\n",
              "      --fill-color: #D2E3FC;\n",
              "      --hover-bg-color: #434B5C;\n",
              "      --hover-fill-color: #FFFFFF;\n",
              "      --disabled-bg-color: #3B4455;\n",
              "      --disabled-fill-color: #666;\n",
              "  }\n",
              "\n",
              "  .colab-df-quickchart {\n",
              "    background-color: var(--bg-color);\n",
              "    border: none;\n",
              "    border-radius: 50%;\n",
              "    cursor: pointer;\n",
              "    display: none;\n",
              "    fill: var(--fill-color);\n",
              "    height: 32px;\n",
              "    padding: 0;\n",
              "    width: 32px;\n",
              "  }\n",
              "\n",
              "  .colab-df-quickchart:hover {\n",
              "    background-color: var(--hover-bg-color);\n",
              "    box-shadow: 0 1px 2px rgba(60, 64, 67, 0.3), 0 1px 3px 1px rgba(60, 64, 67, 0.15);\n",
              "    fill: var(--button-hover-fill-color);\n",
              "  }\n",
              "\n",
              "  .colab-df-quickchart-complete:disabled,\n",
              "  .colab-df-quickchart-complete:disabled:hover {\n",
              "    background-color: var(--disabled-bg-color);\n",
              "    fill: var(--disabled-fill-color);\n",
              "    box-shadow: none;\n",
              "  }\n",
              "\n",
              "  .colab-df-spinner {\n",
              "    border: 2px solid var(--fill-color);\n",
              "    border-color: transparent;\n",
              "    border-bottom-color: var(--fill-color);\n",
              "    animation:\n",
              "      spin 1s steps(1) infinite;\n",
              "  }\n",
              "\n",
              "  @keyframes spin {\n",
              "    0% {\n",
              "      border-color: transparent;\n",
              "      border-bottom-color: var(--fill-color);\n",
              "      border-left-color: var(--fill-color);\n",
              "    }\n",
              "    20% {\n",
              "      border-color: transparent;\n",
              "      border-left-color: var(--fill-color);\n",
              "      border-top-color: var(--fill-color);\n",
              "    }\n",
              "    30% {\n",
              "      border-color: transparent;\n",
              "      border-left-color: var(--fill-color);\n",
              "      border-top-color: var(--fill-color);\n",
              "      border-right-color: var(--fill-color);\n",
              "    }\n",
              "    40% {\n",
              "      border-color: transparent;\n",
              "      border-right-color: var(--fill-color);\n",
              "      border-top-color: var(--fill-color);\n",
              "    }\n",
              "    60% {\n",
              "      border-color: transparent;\n",
              "      border-right-color: var(--fill-color);\n",
              "    }\n",
              "    80% {\n",
              "      border-color: transparent;\n",
              "      border-right-color: var(--fill-color);\n",
              "      border-bottom-color: var(--fill-color);\n",
              "    }\n",
              "    90% {\n",
              "      border-color: transparent;\n",
              "      border-bottom-color: var(--fill-color);\n",
              "    }\n",
              "  }\n",
              "</style>\n",
              "\n",
              "      <script>\n",
              "        async function quickchart(key) {\n",
              "          const quickchartButtonEl =\n",
              "            document.querySelector('#' + key + ' button');\n",
              "          quickchartButtonEl.disabled = true;  // To prevent multiple clicks.\n",
              "          quickchartButtonEl.classList.add('colab-df-spinner');\n",
              "          try {\n",
              "            const charts = await google.colab.kernel.invokeFunction(\n",
              "                'suggestCharts', [key], {});\n",
              "          } catch (error) {\n",
              "            console.error('Error during call to suggestCharts:', error);\n",
              "          }\n",
              "          quickchartButtonEl.classList.remove('colab-df-spinner');\n",
              "          quickchartButtonEl.classList.add('colab-df-quickchart-complete');\n",
              "        }\n",
              "        (() => {\n",
              "          let quickchartButtonEl =\n",
              "            document.querySelector('#df-c6940ca1-8694-42ad-b252-cb86ffd002db button');\n",
              "          quickchartButtonEl.style.display =\n",
              "            google.colab.kernel.accessAllowed ? 'block' : 'none';\n",
              "        })();\n",
              "      </script>\n",
              "    </div>\n",
              "\n",
              "    </div>\n",
              "  </div>\n"
            ],
            "application/vnd.google.colaboratory.intrinsic+json": {
              "type": "dataframe",
              "summary": "{\n  \"name\": \"Table\",\n  \"rows\": 2,\n  \"fields\": [\n    {\n      \"column\": \"O\",\n      \"properties\": {\n        \"dtype\": \"number\",\n        \"std\": 56,\n        \"min\": 10,\n        \"max\": 90,\n        \"num_unique_values\": 2,\n        \"samples\": [\n          90,\n          10\n        ],\n        \"semantic_type\": \"\",\n        \"description\": \"\"\n      }\n    },\n    {\n      \"column\": \"A+\",\n      \"properties\": {\n        \"dtype\": \"number\",\n        \"std\": 52,\n        \"min\": 9,\n        \"max\": 83,\n        \"num_unique_values\": 2,\n        \"samples\": [\n          83,\n          9\n        ],\n        \"semantic_type\": \"\",\n        \"description\": \"\"\n      }\n    },\n    {\n      \"column\": \"A\",\n      \"properties\": {\n        \"dtype\": \"number\",\n        \"std\": 47,\n        \"min\": 8,\n        \"max\": 75,\n        \"num_unique_values\": 2,\n        \"samples\": [\n          75,\n          8\n        ],\n        \"semantic_type\": \"\",\n        \"description\": \"\"\n      }\n    },\n    {\n      \"column\": \"B+\",\n      \"properties\": {\n        \"dtype\": \"number\",\n        \"std\": 43,\n        \"min\": 7,\n        \"max\": 68,\n        \"num_unique_values\": 2,\n        \"samples\": [\n          68,\n          7\n        ],\n        \"semantic_type\": \"\",\n        \"description\": \"\"\n      }\n    },\n    {\n      \"column\": \"B\",\n      \"properties\": {\n        \"dtype\": \"number\",\n        \"std\": 38,\n        \"min\": 6,\n        \"max\": 60,\n        \"num_unique_values\": 2,\n        \"samples\": [\n          60,\n          6\n        ],\n        \"semantic_type\": \"\",\n        \"description\": \"\"\n      }\n    },\n    {\n      \"column\": \"C\",\n      \"properties\": {\n        \"dtype\": \"number\",\n        \"std\": 33,\n        \"min\": 5,\n        \"max\": 53,\n        \"num_unique_values\": 2,\n        \"samples\": [\n          53,\n          5\n        ],\n        \"semantic_type\": \"\",\n        \"description\": \"\"\n      }\n    },\n    {\n      \"column\": \"D\",\n      \"properties\": {\n        \"dtype\": \"number\",\n        \"std\": 28,\n        \"min\": 4,\n        \"max\": 45,\n        \"num_unique_values\": 2,\n        \"samples\": [\n          45,\n          4\n        ],\n        \"semantic_type\": \"\",\n        \"description\": \"\"\n      }\n    }\n  ]\n}"
            }
          },
          "metadata": {},
          "execution_count": 64
        }
      ]
    },
    {
      "cell_type": "code",
      "source": [
        "Table['ScaledMarks'] = 100 * (Table['Marks']/90)\n",
        "Table"
      ],
      "metadata": {
        "colab": {
          "base_uri": "https://localhost:8080/",
          "height": 269
        },
        "id": "RQbcVR3HYujt",
        "outputId": "442fa38a-0901-4dc9-8991-c5db9d28f462"
      },
      "execution_count": 70,
      "outputs": [
        {
          "output_type": "execute_result",
          "data": {
            "text/plain": [
              "    Grades  Marks  ScaledMarks\n",
              "O       10     90   100.000000\n",
              "A+       9     83    92.222222\n",
              "A        8     75    83.333333\n",
              "B+       7     68    75.555556\n",
              "B        6     60    66.666667\n",
              "C        5     53    58.888889\n",
              "D        4     45    50.000000"
            ],
            "text/html": [
              "\n",
              "  <div id=\"df-7e596779-9031-48e6-9a69-345893fd06b2\" class=\"colab-df-container\">\n",
              "    <div>\n",
              "<style scoped>\n",
              "    .dataframe tbody tr th:only-of-type {\n",
              "        vertical-align: middle;\n",
              "    }\n",
              "\n",
              "    .dataframe tbody tr th {\n",
              "        vertical-align: top;\n",
              "    }\n",
              "\n",
              "    .dataframe thead th {\n",
              "        text-align: right;\n",
              "    }\n",
              "</style>\n",
              "<table border=\"1\" class=\"dataframe\">\n",
              "  <thead>\n",
              "    <tr style=\"text-align: right;\">\n",
              "      <th></th>\n",
              "      <th>Grades</th>\n",
              "      <th>Marks</th>\n",
              "      <th>ScaledMarks</th>\n",
              "    </tr>\n",
              "  </thead>\n",
              "  <tbody>\n",
              "    <tr>\n",
              "      <th>O</th>\n",
              "      <td>10</td>\n",
              "      <td>90</td>\n",
              "      <td>100.000000</td>\n",
              "    </tr>\n",
              "    <tr>\n",
              "      <th>A+</th>\n",
              "      <td>9</td>\n",
              "      <td>83</td>\n",
              "      <td>92.222222</td>\n",
              "    </tr>\n",
              "    <tr>\n",
              "      <th>A</th>\n",
              "      <td>8</td>\n",
              "      <td>75</td>\n",
              "      <td>83.333333</td>\n",
              "    </tr>\n",
              "    <tr>\n",
              "      <th>B+</th>\n",
              "      <td>7</td>\n",
              "      <td>68</td>\n",
              "      <td>75.555556</td>\n",
              "    </tr>\n",
              "    <tr>\n",
              "      <th>B</th>\n",
              "      <td>6</td>\n",
              "      <td>60</td>\n",
              "      <td>66.666667</td>\n",
              "    </tr>\n",
              "    <tr>\n",
              "      <th>C</th>\n",
              "      <td>5</td>\n",
              "      <td>53</td>\n",
              "      <td>58.888889</td>\n",
              "    </tr>\n",
              "    <tr>\n",
              "      <th>D</th>\n",
              "      <td>4</td>\n",
              "      <td>45</td>\n",
              "      <td>50.000000</td>\n",
              "    </tr>\n",
              "  </tbody>\n",
              "</table>\n",
              "</div>\n",
              "    <div class=\"colab-df-buttons\">\n",
              "\n",
              "  <div class=\"colab-df-container\">\n",
              "    <button class=\"colab-df-convert\" onclick=\"convertToInteractive('df-7e596779-9031-48e6-9a69-345893fd06b2')\"\n",
              "            title=\"Convert this dataframe to an interactive table.\"\n",
              "            style=\"display:none;\">\n",
              "\n",
              "  <svg xmlns=\"http://www.w3.org/2000/svg\" height=\"24px\" viewBox=\"0 -960 960 960\">\n",
              "    <path d=\"M120-120v-720h720v720H120Zm60-500h600v-160H180v160Zm220 220h160v-160H400v160Zm0 220h160v-160H400v160ZM180-400h160v-160H180v160Zm440 0h160v-160H620v160ZM180-180h160v-160H180v160Zm440 0h160v-160H620v160Z\"/>\n",
              "  </svg>\n",
              "    </button>\n",
              "\n",
              "  <style>\n",
              "    .colab-df-container {\n",
              "      display:flex;\n",
              "      gap: 12px;\n",
              "    }\n",
              "\n",
              "    .colab-df-convert {\n",
              "      background-color: #E8F0FE;\n",
              "      border: none;\n",
              "      border-radius: 50%;\n",
              "      cursor: pointer;\n",
              "      display: none;\n",
              "      fill: #1967D2;\n",
              "      height: 32px;\n",
              "      padding: 0 0 0 0;\n",
              "      width: 32px;\n",
              "    }\n",
              "\n",
              "    .colab-df-convert:hover {\n",
              "      background-color: #E2EBFA;\n",
              "      box-shadow: 0px 1px 2px rgba(60, 64, 67, 0.3), 0px 1px 3px 1px rgba(60, 64, 67, 0.15);\n",
              "      fill: #174EA6;\n",
              "    }\n",
              "\n",
              "    .colab-df-buttons div {\n",
              "      margin-bottom: 4px;\n",
              "    }\n",
              "\n",
              "    [theme=dark] .colab-df-convert {\n",
              "      background-color: #3B4455;\n",
              "      fill: #D2E3FC;\n",
              "    }\n",
              "\n",
              "    [theme=dark] .colab-df-convert:hover {\n",
              "      background-color: #434B5C;\n",
              "      box-shadow: 0px 1px 3px 1px rgba(0, 0, 0, 0.15);\n",
              "      filter: drop-shadow(0px 1px 2px rgba(0, 0, 0, 0.3));\n",
              "      fill: #FFFFFF;\n",
              "    }\n",
              "  </style>\n",
              "\n",
              "    <script>\n",
              "      const buttonEl =\n",
              "        document.querySelector('#df-7e596779-9031-48e6-9a69-345893fd06b2 button.colab-df-convert');\n",
              "      buttonEl.style.display =\n",
              "        google.colab.kernel.accessAllowed ? 'block' : 'none';\n",
              "\n",
              "      async function convertToInteractive(key) {\n",
              "        const element = document.querySelector('#df-7e596779-9031-48e6-9a69-345893fd06b2');\n",
              "        const dataTable =\n",
              "          await google.colab.kernel.invokeFunction('convertToInteractive',\n",
              "                                                    [key], {});\n",
              "        if (!dataTable) return;\n",
              "\n",
              "        const docLinkHtml = 'Like what you see? Visit the ' +\n",
              "          '<a target=\"_blank\" href=https://colab.research.google.com/notebooks/data_table.ipynb>data table notebook</a>'\n",
              "          + ' to learn more about interactive tables.';\n",
              "        element.innerHTML = '';\n",
              "        dataTable['output_type'] = 'display_data';\n",
              "        await google.colab.output.renderOutput(dataTable, element);\n",
              "        const docLink = document.createElement('div');\n",
              "        docLink.innerHTML = docLinkHtml;\n",
              "        element.appendChild(docLink);\n",
              "      }\n",
              "    </script>\n",
              "  </div>\n",
              "\n",
              "\n",
              "    <div id=\"df-0ff79a74-9c8f-4d3b-b1db-0b7a3889b5bc\">\n",
              "      <button class=\"colab-df-quickchart\" onclick=\"quickchart('df-0ff79a74-9c8f-4d3b-b1db-0b7a3889b5bc')\"\n",
              "                title=\"Suggest charts\"\n",
              "                style=\"display:none;\">\n",
              "\n",
              "<svg xmlns=\"http://www.w3.org/2000/svg\" height=\"24px\"viewBox=\"0 0 24 24\"\n",
              "     width=\"24px\">\n",
              "    <g>\n",
              "        <path d=\"M19 3H5c-1.1 0-2 .9-2 2v14c0 1.1.9 2 2 2h14c1.1 0 2-.9 2-2V5c0-1.1-.9-2-2-2zM9 17H7v-7h2v7zm4 0h-2V7h2v10zm4 0h-2v-4h2v4z\"/>\n",
              "    </g>\n",
              "</svg>\n",
              "      </button>\n",
              "\n",
              "<style>\n",
              "  .colab-df-quickchart {\n",
              "      --bg-color: #E8F0FE;\n",
              "      --fill-color: #1967D2;\n",
              "      --hover-bg-color: #E2EBFA;\n",
              "      --hover-fill-color: #174EA6;\n",
              "      --disabled-fill-color: #AAA;\n",
              "      --disabled-bg-color: #DDD;\n",
              "  }\n",
              "\n",
              "  [theme=dark] .colab-df-quickchart {\n",
              "      --bg-color: #3B4455;\n",
              "      --fill-color: #D2E3FC;\n",
              "      --hover-bg-color: #434B5C;\n",
              "      --hover-fill-color: #FFFFFF;\n",
              "      --disabled-bg-color: #3B4455;\n",
              "      --disabled-fill-color: #666;\n",
              "  }\n",
              "\n",
              "  .colab-df-quickchart {\n",
              "    background-color: var(--bg-color);\n",
              "    border: none;\n",
              "    border-radius: 50%;\n",
              "    cursor: pointer;\n",
              "    display: none;\n",
              "    fill: var(--fill-color);\n",
              "    height: 32px;\n",
              "    padding: 0;\n",
              "    width: 32px;\n",
              "  }\n",
              "\n",
              "  .colab-df-quickchart:hover {\n",
              "    background-color: var(--hover-bg-color);\n",
              "    box-shadow: 0 1px 2px rgba(60, 64, 67, 0.3), 0 1px 3px 1px rgba(60, 64, 67, 0.15);\n",
              "    fill: var(--button-hover-fill-color);\n",
              "  }\n",
              "\n",
              "  .colab-df-quickchart-complete:disabled,\n",
              "  .colab-df-quickchart-complete:disabled:hover {\n",
              "    background-color: var(--disabled-bg-color);\n",
              "    fill: var(--disabled-fill-color);\n",
              "    box-shadow: none;\n",
              "  }\n",
              "\n",
              "  .colab-df-spinner {\n",
              "    border: 2px solid var(--fill-color);\n",
              "    border-color: transparent;\n",
              "    border-bottom-color: var(--fill-color);\n",
              "    animation:\n",
              "      spin 1s steps(1) infinite;\n",
              "  }\n",
              "\n",
              "  @keyframes spin {\n",
              "    0% {\n",
              "      border-color: transparent;\n",
              "      border-bottom-color: var(--fill-color);\n",
              "      border-left-color: var(--fill-color);\n",
              "    }\n",
              "    20% {\n",
              "      border-color: transparent;\n",
              "      border-left-color: var(--fill-color);\n",
              "      border-top-color: var(--fill-color);\n",
              "    }\n",
              "    30% {\n",
              "      border-color: transparent;\n",
              "      border-left-color: var(--fill-color);\n",
              "      border-top-color: var(--fill-color);\n",
              "      border-right-color: var(--fill-color);\n",
              "    }\n",
              "    40% {\n",
              "      border-color: transparent;\n",
              "      border-right-color: var(--fill-color);\n",
              "      border-top-color: var(--fill-color);\n",
              "    }\n",
              "    60% {\n",
              "      border-color: transparent;\n",
              "      border-right-color: var(--fill-color);\n",
              "    }\n",
              "    80% {\n",
              "      border-color: transparent;\n",
              "      border-right-color: var(--fill-color);\n",
              "      border-bottom-color: var(--fill-color);\n",
              "    }\n",
              "    90% {\n",
              "      border-color: transparent;\n",
              "      border-bottom-color: var(--fill-color);\n",
              "    }\n",
              "  }\n",
              "</style>\n",
              "\n",
              "      <script>\n",
              "        async function quickchart(key) {\n",
              "          const quickchartButtonEl =\n",
              "            document.querySelector('#' + key + ' button');\n",
              "          quickchartButtonEl.disabled = true;  // To prevent multiple clicks.\n",
              "          quickchartButtonEl.classList.add('colab-df-spinner');\n",
              "          try {\n",
              "            const charts = await google.colab.kernel.invokeFunction(\n",
              "                'suggestCharts', [key], {});\n",
              "          } catch (error) {\n",
              "            console.error('Error during call to suggestCharts:', error);\n",
              "          }\n",
              "          quickchartButtonEl.classList.remove('colab-df-spinner');\n",
              "          quickchartButtonEl.classList.add('colab-df-quickchart-complete');\n",
              "        }\n",
              "        (() => {\n",
              "          let quickchartButtonEl =\n",
              "            document.querySelector('#df-0ff79a74-9c8f-4d3b-b1db-0b7a3889b5bc button');\n",
              "          quickchartButtonEl.style.display =\n",
              "            google.colab.kernel.accessAllowed ? 'block' : 'none';\n",
              "        })();\n",
              "      </script>\n",
              "    </div>\n",
              "\n",
              "  <div id=\"id_6f74cd57-1fdd-46d9-9f68-4bc3d900192c\">\n",
              "    <style>\n",
              "      .colab-df-generate {\n",
              "        background-color: #E8F0FE;\n",
              "        border: none;\n",
              "        border-radius: 50%;\n",
              "        cursor: pointer;\n",
              "        display: none;\n",
              "        fill: #1967D2;\n",
              "        height: 32px;\n",
              "        padding: 0 0 0 0;\n",
              "        width: 32px;\n",
              "      }\n",
              "\n",
              "      .colab-df-generate:hover {\n",
              "        background-color: #E2EBFA;\n",
              "        box-shadow: 0px 1px 2px rgba(60, 64, 67, 0.3), 0px 1px 3px 1px rgba(60, 64, 67, 0.15);\n",
              "        fill: #174EA6;\n",
              "      }\n",
              "\n",
              "      [theme=dark] .colab-df-generate {\n",
              "        background-color: #3B4455;\n",
              "        fill: #D2E3FC;\n",
              "      }\n",
              "\n",
              "      [theme=dark] .colab-df-generate:hover {\n",
              "        background-color: #434B5C;\n",
              "        box-shadow: 0px 1px 3px 1px rgba(0, 0, 0, 0.15);\n",
              "        filter: drop-shadow(0px 1px 2px rgba(0, 0, 0, 0.3));\n",
              "        fill: #FFFFFF;\n",
              "      }\n",
              "    </style>\n",
              "    <button class=\"colab-df-generate\" onclick=\"generateWithVariable('Table')\"\n",
              "            title=\"Generate code using this dataframe.\"\n",
              "            style=\"display:none;\">\n",
              "\n",
              "  <svg xmlns=\"http://www.w3.org/2000/svg\" height=\"24px\"viewBox=\"0 0 24 24\"\n",
              "       width=\"24px\">\n",
              "    <path d=\"M7,19H8.4L18.45,9,17,7.55,7,17.6ZM5,21V16.75L18.45,3.32a2,2,0,0,1,2.83,0l1.4,1.43a1.91,1.91,0,0,1,.58,1.4,1.91,1.91,0,0,1-.58,1.4L9.25,21ZM18.45,9,17,7.55Zm-12,3A5.31,5.31,0,0,0,4.9,8.1,5.31,5.31,0,0,0,1,6.5,5.31,5.31,0,0,0,4.9,4.9,5.31,5.31,0,0,0,6.5,1,5.31,5.31,0,0,0,8.1,4.9,5.31,5.31,0,0,0,12,6.5,5.46,5.46,0,0,0,6.5,12Z\"/>\n",
              "  </svg>\n",
              "    </button>\n",
              "    <script>\n",
              "      (() => {\n",
              "      const buttonEl =\n",
              "        document.querySelector('#id_6f74cd57-1fdd-46d9-9f68-4bc3d900192c button.colab-df-generate');\n",
              "      buttonEl.style.display =\n",
              "        google.colab.kernel.accessAllowed ? 'block' : 'none';\n",
              "\n",
              "      buttonEl.onclick = () => {\n",
              "        google.colab.notebook.generateWithVariable('Table');\n",
              "      }\n",
              "      })();\n",
              "    </script>\n",
              "  </div>\n",
              "\n",
              "    </div>\n",
              "  </div>\n"
            ],
            "application/vnd.google.colaboratory.intrinsic+json": {
              "type": "dataframe",
              "variable_name": "Table",
              "summary": "{\n  \"name\": \"Table\",\n  \"rows\": 7,\n  \"fields\": [\n    {\n      \"column\": \"Grades\",\n      \"properties\": {\n        \"dtype\": \"number\",\n        \"std\": 2,\n        \"min\": 4,\n        \"max\": 10,\n        \"num_unique_values\": 7,\n        \"samples\": [\n          10,\n          9,\n          5\n        ],\n        \"semantic_type\": \"\",\n        \"description\": \"\"\n      }\n    },\n    {\n      \"column\": \"Marks\",\n      \"properties\": {\n        \"dtype\": \"number\",\n        \"std\": 16,\n        \"min\": 45,\n        \"max\": 90,\n        \"num_unique_values\": 7,\n        \"samples\": [\n          90,\n          83,\n          53\n        ],\n        \"semantic_type\": \"\",\n        \"description\": \"\"\n      }\n    },\n    {\n      \"column\": \"ScaledMarks\",\n      \"properties\": {\n        \"dtype\": \"number\",\n        \"std\": 18.00450658850697,\n        \"min\": 50.0,\n        \"max\": 100.0,\n        \"num_unique_values\": 7,\n        \"samples\": [\n          100.0,\n          92.22222222222223,\n          58.88888888888889\n        ],\n        \"semantic_type\": \"\",\n        \"description\": \"\"\n      }\n    }\n  ]\n}"
            }
          },
          "metadata": {},
          "execution_count": 70
        }
      ]
    },
    {
      "cell_type": "code",
      "source": [
        "G = Table[Table['Marks'] > 60]\n",
        "G"
      ],
      "metadata": {
        "colab": {
          "base_uri": "https://localhost:8080/",
          "height": 175
        },
        "id": "BESCVA6nY6B3",
        "outputId": "a2a808dc-e3eb-4fc8-c658-8c4c91a53391"
      },
      "execution_count": 71,
      "outputs": [
        {
          "output_type": "execute_result",
          "data": {
            "text/plain": [
              "    Grades  Marks  ScaledMarks\n",
              "O       10     90   100.000000\n",
              "A+       9     83    92.222222\n",
              "A        8     75    83.333333\n",
              "B+       7     68    75.555556"
            ],
            "text/html": [
              "\n",
              "  <div id=\"df-d5e3365c-5043-4c68-989a-19d00d43e328\" class=\"colab-df-container\">\n",
              "    <div>\n",
              "<style scoped>\n",
              "    .dataframe tbody tr th:only-of-type {\n",
              "        vertical-align: middle;\n",
              "    }\n",
              "\n",
              "    .dataframe tbody tr th {\n",
              "        vertical-align: top;\n",
              "    }\n",
              "\n",
              "    .dataframe thead th {\n",
              "        text-align: right;\n",
              "    }\n",
              "</style>\n",
              "<table border=\"1\" class=\"dataframe\">\n",
              "  <thead>\n",
              "    <tr style=\"text-align: right;\">\n",
              "      <th></th>\n",
              "      <th>Grades</th>\n",
              "      <th>Marks</th>\n",
              "      <th>ScaledMarks</th>\n",
              "    </tr>\n",
              "  </thead>\n",
              "  <tbody>\n",
              "    <tr>\n",
              "      <th>O</th>\n",
              "      <td>10</td>\n",
              "      <td>90</td>\n",
              "      <td>100.000000</td>\n",
              "    </tr>\n",
              "    <tr>\n",
              "      <th>A+</th>\n",
              "      <td>9</td>\n",
              "      <td>83</td>\n",
              "      <td>92.222222</td>\n",
              "    </tr>\n",
              "    <tr>\n",
              "      <th>A</th>\n",
              "      <td>8</td>\n",
              "      <td>75</td>\n",
              "      <td>83.333333</td>\n",
              "    </tr>\n",
              "    <tr>\n",
              "      <th>B+</th>\n",
              "      <td>7</td>\n",
              "      <td>68</td>\n",
              "      <td>75.555556</td>\n",
              "    </tr>\n",
              "  </tbody>\n",
              "</table>\n",
              "</div>\n",
              "    <div class=\"colab-df-buttons\">\n",
              "\n",
              "  <div class=\"colab-df-container\">\n",
              "    <button class=\"colab-df-convert\" onclick=\"convertToInteractive('df-d5e3365c-5043-4c68-989a-19d00d43e328')\"\n",
              "            title=\"Convert this dataframe to an interactive table.\"\n",
              "            style=\"display:none;\">\n",
              "\n",
              "  <svg xmlns=\"http://www.w3.org/2000/svg\" height=\"24px\" viewBox=\"0 -960 960 960\">\n",
              "    <path d=\"M120-120v-720h720v720H120Zm60-500h600v-160H180v160Zm220 220h160v-160H400v160Zm0 220h160v-160H400v160ZM180-400h160v-160H180v160Zm440 0h160v-160H620v160ZM180-180h160v-160H180v160Zm440 0h160v-160H620v160Z\"/>\n",
              "  </svg>\n",
              "    </button>\n",
              "\n",
              "  <style>\n",
              "    .colab-df-container {\n",
              "      display:flex;\n",
              "      gap: 12px;\n",
              "    }\n",
              "\n",
              "    .colab-df-convert {\n",
              "      background-color: #E8F0FE;\n",
              "      border: none;\n",
              "      border-radius: 50%;\n",
              "      cursor: pointer;\n",
              "      display: none;\n",
              "      fill: #1967D2;\n",
              "      height: 32px;\n",
              "      padding: 0 0 0 0;\n",
              "      width: 32px;\n",
              "    }\n",
              "\n",
              "    .colab-df-convert:hover {\n",
              "      background-color: #E2EBFA;\n",
              "      box-shadow: 0px 1px 2px rgba(60, 64, 67, 0.3), 0px 1px 3px 1px rgba(60, 64, 67, 0.15);\n",
              "      fill: #174EA6;\n",
              "    }\n",
              "\n",
              "    .colab-df-buttons div {\n",
              "      margin-bottom: 4px;\n",
              "    }\n",
              "\n",
              "    [theme=dark] .colab-df-convert {\n",
              "      background-color: #3B4455;\n",
              "      fill: #D2E3FC;\n",
              "    }\n",
              "\n",
              "    [theme=dark] .colab-df-convert:hover {\n",
              "      background-color: #434B5C;\n",
              "      box-shadow: 0px 1px 3px 1px rgba(0, 0, 0, 0.15);\n",
              "      filter: drop-shadow(0px 1px 2px rgba(0, 0, 0, 0.3));\n",
              "      fill: #FFFFFF;\n",
              "    }\n",
              "  </style>\n",
              "\n",
              "    <script>\n",
              "      const buttonEl =\n",
              "        document.querySelector('#df-d5e3365c-5043-4c68-989a-19d00d43e328 button.colab-df-convert');\n",
              "      buttonEl.style.display =\n",
              "        google.colab.kernel.accessAllowed ? 'block' : 'none';\n",
              "\n",
              "      async function convertToInteractive(key) {\n",
              "        const element = document.querySelector('#df-d5e3365c-5043-4c68-989a-19d00d43e328');\n",
              "        const dataTable =\n",
              "          await google.colab.kernel.invokeFunction('convertToInteractive',\n",
              "                                                    [key], {});\n",
              "        if (!dataTable) return;\n",
              "\n",
              "        const docLinkHtml = 'Like what you see? Visit the ' +\n",
              "          '<a target=\"_blank\" href=https://colab.research.google.com/notebooks/data_table.ipynb>data table notebook</a>'\n",
              "          + ' to learn more about interactive tables.';\n",
              "        element.innerHTML = '';\n",
              "        dataTable['output_type'] = 'display_data';\n",
              "        await google.colab.output.renderOutput(dataTable, element);\n",
              "        const docLink = document.createElement('div');\n",
              "        docLink.innerHTML = docLinkHtml;\n",
              "        element.appendChild(docLink);\n",
              "      }\n",
              "    </script>\n",
              "  </div>\n",
              "\n",
              "\n",
              "    <div id=\"df-f1f40e83-2b90-47c7-9d82-0a04b9429c70\">\n",
              "      <button class=\"colab-df-quickchart\" onclick=\"quickchart('df-f1f40e83-2b90-47c7-9d82-0a04b9429c70')\"\n",
              "                title=\"Suggest charts\"\n",
              "                style=\"display:none;\">\n",
              "\n",
              "<svg xmlns=\"http://www.w3.org/2000/svg\" height=\"24px\"viewBox=\"0 0 24 24\"\n",
              "     width=\"24px\">\n",
              "    <g>\n",
              "        <path d=\"M19 3H5c-1.1 0-2 .9-2 2v14c0 1.1.9 2 2 2h14c1.1 0 2-.9 2-2V5c0-1.1-.9-2-2-2zM9 17H7v-7h2v7zm4 0h-2V7h2v10zm4 0h-2v-4h2v4z\"/>\n",
              "    </g>\n",
              "</svg>\n",
              "      </button>\n",
              "\n",
              "<style>\n",
              "  .colab-df-quickchart {\n",
              "      --bg-color: #E8F0FE;\n",
              "      --fill-color: #1967D2;\n",
              "      --hover-bg-color: #E2EBFA;\n",
              "      --hover-fill-color: #174EA6;\n",
              "      --disabled-fill-color: #AAA;\n",
              "      --disabled-bg-color: #DDD;\n",
              "  }\n",
              "\n",
              "  [theme=dark] .colab-df-quickchart {\n",
              "      --bg-color: #3B4455;\n",
              "      --fill-color: #D2E3FC;\n",
              "      --hover-bg-color: #434B5C;\n",
              "      --hover-fill-color: #FFFFFF;\n",
              "      --disabled-bg-color: #3B4455;\n",
              "      --disabled-fill-color: #666;\n",
              "  }\n",
              "\n",
              "  .colab-df-quickchart {\n",
              "    background-color: var(--bg-color);\n",
              "    border: none;\n",
              "    border-radius: 50%;\n",
              "    cursor: pointer;\n",
              "    display: none;\n",
              "    fill: var(--fill-color);\n",
              "    height: 32px;\n",
              "    padding: 0;\n",
              "    width: 32px;\n",
              "  }\n",
              "\n",
              "  .colab-df-quickchart:hover {\n",
              "    background-color: var(--hover-bg-color);\n",
              "    box-shadow: 0 1px 2px rgba(60, 64, 67, 0.3), 0 1px 3px 1px rgba(60, 64, 67, 0.15);\n",
              "    fill: var(--button-hover-fill-color);\n",
              "  }\n",
              "\n",
              "  .colab-df-quickchart-complete:disabled,\n",
              "  .colab-df-quickchart-complete:disabled:hover {\n",
              "    background-color: var(--disabled-bg-color);\n",
              "    fill: var(--disabled-fill-color);\n",
              "    box-shadow: none;\n",
              "  }\n",
              "\n",
              "  .colab-df-spinner {\n",
              "    border: 2px solid var(--fill-color);\n",
              "    border-color: transparent;\n",
              "    border-bottom-color: var(--fill-color);\n",
              "    animation:\n",
              "      spin 1s steps(1) infinite;\n",
              "  }\n",
              "\n",
              "  @keyframes spin {\n",
              "    0% {\n",
              "      border-color: transparent;\n",
              "      border-bottom-color: var(--fill-color);\n",
              "      border-left-color: var(--fill-color);\n",
              "    }\n",
              "    20% {\n",
              "      border-color: transparent;\n",
              "      border-left-color: var(--fill-color);\n",
              "      border-top-color: var(--fill-color);\n",
              "    }\n",
              "    30% {\n",
              "      border-color: transparent;\n",
              "      border-left-color: var(--fill-color);\n",
              "      border-top-color: var(--fill-color);\n",
              "      border-right-color: var(--fill-color);\n",
              "    }\n",
              "    40% {\n",
              "      border-color: transparent;\n",
              "      border-right-color: var(--fill-color);\n",
              "      border-top-color: var(--fill-color);\n",
              "    }\n",
              "    60% {\n",
              "      border-color: transparent;\n",
              "      border-right-color: var(--fill-color);\n",
              "    }\n",
              "    80% {\n",
              "      border-color: transparent;\n",
              "      border-right-color: var(--fill-color);\n",
              "      border-bottom-color: var(--fill-color);\n",
              "    }\n",
              "    90% {\n",
              "      border-color: transparent;\n",
              "      border-bottom-color: var(--fill-color);\n",
              "    }\n",
              "  }\n",
              "</style>\n",
              "\n",
              "      <script>\n",
              "        async function quickchart(key) {\n",
              "          const quickchartButtonEl =\n",
              "            document.querySelector('#' + key + ' button');\n",
              "          quickchartButtonEl.disabled = true;  // To prevent multiple clicks.\n",
              "          quickchartButtonEl.classList.add('colab-df-spinner');\n",
              "          try {\n",
              "            const charts = await google.colab.kernel.invokeFunction(\n",
              "                'suggestCharts', [key], {});\n",
              "          } catch (error) {\n",
              "            console.error('Error during call to suggestCharts:', error);\n",
              "          }\n",
              "          quickchartButtonEl.classList.remove('colab-df-spinner');\n",
              "          quickchartButtonEl.classList.add('colab-df-quickchart-complete');\n",
              "        }\n",
              "        (() => {\n",
              "          let quickchartButtonEl =\n",
              "            document.querySelector('#df-f1f40e83-2b90-47c7-9d82-0a04b9429c70 button');\n",
              "          quickchartButtonEl.style.display =\n",
              "            google.colab.kernel.accessAllowed ? 'block' : 'none';\n",
              "        })();\n",
              "      </script>\n",
              "    </div>\n",
              "\n",
              "  <div id=\"id_d2b6961a-ceec-4aa8-828e-342787fa274a\">\n",
              "    <style>\n",
              "      .colab-df-generate {\n",
              "        background-color: #E8F0FE;\n",
              "        border: none;\n",
              "        border-radius: 50%;\n",
              "        cursor: pointer;\n",
              "        display: none;\n",
              "        fill: #1967D2;\n",
              "        height: 32px;\n",
              "        padding: 0 0 0 0;\n",
              "        width: 32px;\n",
              "      }\n",
              "\n",
              "      .colab-df-generate:hover {\n",
              "        background-color: #E2EBFA;\n",
              "        box-shadow: 0px 1px 2px rgba(60, 64, 67, 0.3), 0px 1px 3px 1px rgba(60, 64, 67, 0.15);\n",
              "        fill: #174EA6;\n",
              "      }\n",
              "\n",
              "      [theme=dark] .colab-df-generate {\n",
              "        background-color: #3B4455;\n",
              "        fill: #D2E3FC;\n",
              "      }\n",
              "\n",
              "      [theme=dark] .colab-df-generate:hover {\n",
              "        background-color: #434B5C;\n",
              "        box-shadow: 0px 1px 3px 1px rgba(0, 0, 0, 0.15);\n",
              "        filter: drop-shadow(0px 1px 2px rgba(0, 0, 0, 0.3));\n",
              "        fill: #FFFFFF;\n",
              "      }\n",
              "    </style>\n",
              "    <button class=\"colab-df-generate\" onclick=\"generateWithVariable('G')\"\n",
              "            title=\"Generate code using this dataframe.\"\n",
              "            style=\"display:none;\">\n",
              "\n",
              "  <svg xmlns=\"http://www.w3.org/2000/svg\" height=\"24px\"viewBox=\"0 0 24 24\"\n",
              "       width=\"24px\">\n",
              "    <path d=\"M7,19H8.4L18.45,9,17,7.55,7,17.6ZM5,21V16.75L18.45,3.32a2,2,0,0,1,2.83,0l1.4,1.43a1.91,1.91,0,0,1,.58,1.4,1.91,1.91,0,0,1-.58,1.4L9.25,21ZM18.45,9,17,7.55Zm-12,3A5.31,5.31,0,0,0,4.9,8.1,5.31,5.31,0,0,0,1,6.5,5.31,5.31,0,0,0,4.9,4.9,5.31,5.31,0,0,0,6.5,1,5.31,5.31,0,0,0,8.1,4.9,5.31,5.31,0,0,0,12,6.5,5.46,5.46,0,0,0,6.5,12Z\"/>\n",
              "  </svg>\n",
              "    </button>\n",
              "    <script>\n",
              "      (() => {\n",
              "      const buttonEl =\n",
              "        document.querySelector('#id_d2b6961a-ceec-4aa8-828e-342787fa274a button.colab-df-generate');\n",
              "      buttonEl.style.display =\n",
              "        google.colab.kernel.accessAllowed ? 'block' : 'none';\n",
              "\n",
              "      buttonEl.onclick = () => {\n",
              "        google.colab.notebook.generateWithVariable('G');\n",
              "      }\n",
              "      })();\n",
              "    </script>\n",
              "  </div>\n",
              "\n",
              "    </div>\n",
              "  </div>\n"
            ],
            "application/vnd.google.colaboratory.intrinsic+json": {
              "type": "dataframe",
              "variable_name": "G",
              "summary": "{\n  \"name\": \"G\",\n  \"rows\": 4,\n  \"fields\": [\n    {\n      \"column\": \"Grades\",\n      \"properties\": {\n        \"dtype\": \"number\",\n        \"std\": 1,\n        \"min\": 7,\n        \"max\": 10,\n        \"num_unique_values\": 4,\n        \"samples\": [\n          9,\n          7,\n          10\n        ],\n        \"semantic_type\": \"\",\n        \"description\": \"\"\n      }\n    },\n    {\n      \"column\": \"Marks\",\n      \"properties\": {\n        \"dtype\": \"number\",\n        \"std\": 9,\n        \"min\": 68,\n        \"max\": 90,\n        \"num_unique_values\": 4,\n        \"samples\": [\n          83,\n          68,\n          90\n        ],\n        \"semantic_type\": \"\",\n        \"description\": \"\"\n      }\n    },\n    {\n      \"column\": \"ScaledMarks\",\n      \"properties\": {\n        \"dtype\": \"number\",\n        \"std\": 10.618719397652926,\n        \"min\": 75.55555555555556,\n        \"max\": 100.0,\n        \"num_unique_values\": 4,\n        \"samples\": [\n          92.22222222222223,\n          75.55555555555556,\n          100.0\n        ],\n        \"semantic_type\": \"\",\n        \"description\": \"\"\n      }\n    }\n  ]\n}"
            }
          },
          "metadata": {},
          "execution_count": 71
        }
      ]
    }
  ]
}